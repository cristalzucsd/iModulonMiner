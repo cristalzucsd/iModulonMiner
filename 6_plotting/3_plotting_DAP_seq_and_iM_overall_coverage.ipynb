{
 "cells": [
  {
   "cell_type": "code",
   "execution_count": 3,
   "id": "9e85e7ce-c8bc-4748-b8dc-b792ceb6872b",
   "metadata": {
    "tags": []
   },
   "outputs": [
    {
     "name": "stderr",
     "output_type": "stream",
     "text": [
      "/home/chris/miniforge3/envs/iM_miner/lib/python3.10/site-packages/pymodulon/util.py:31: FutureWarning: Passing literal json to 'read_json' is deprecated and will be removed in a future version. To read from a literal string, wrap it in a 'StringIO' object.\n",
      "  table = pd.read_json(table)\n",
      "/home/chris/miniforge3/envs/iM_miner/lib/python3.10/site-packages/pymodulon/util.py:31: FutureWarning: Passing literal json to 'read_json' is deprecated and will be removed in a future version. To read from a literal string, wrap it in a 'StringIO' object.\n",
      "  table = pd.read_json(table)\n",
      "/home/chris/miniforge3/envs/iM_miner/lib/python3.10/site-packages/pymodulon/util.py:31: FutureWarning: Passing literal json to 'read_json' is deprecated and will be removed in a future version. To read from a literal string, wrap it in a 'StringIO' object.\n",
      "  table = pd.read_json(table)\n",
      "/home/chris/miniforge3/envs/iM_miner/lib/python3.10/site-packages/pymodulon/util.py:31: FutureWarning: Passing literal json to 'read_json' is deprecated and will be removed in a future version. To read from a literal string, wrap it in a 'StringIO' object.\n",
      "  table = pd.read_json(table)\n",
      "/home/chris/miniforge3/envs/iM_miner/lib/python3.10/site-packages/pymodulon/util.py:31: FutureWarning: Passing literal json to 'read_json' is deprecated and will be removed in a future version. To read from a literal string, wrap it in a 'StringIO' object.\n",
      "  table = pd.read_json(table)\n",
      "/home/chris/miniforge3/envs/iM_miner/lib/python3.10/site-packages/pymodulon/util.py:31: FutureWarning: Passing literal json to 'read_json' is deprecated and will be removed in a future version. To read from a literal string, wrap it in a 'StringIO' object.\n",
      "  table = pd.read_json(table)\n",
      "/home/chris/miniforge3/envs/iM_miner/lib/python3.10/site-packages/pymodulon/util.py:31: FutureWarning: Passing literal json to 'read_json' is deprecated and will be removed in a future version. To read from a literal string, wrap it in a 'StringIO' object.\n",
      "  table = pd.read_json(table)\n"
     ]
    }
   ],
   "source": [
    "# imports and loading\n",
    "import pandas as pd\n",
    "import matplotlib.pyplot as plt\n",
    "import matplotlib as mpl\n",
    "mpl.rcParams['pdf.fonttype'] = 42\n",
    "from pymodulon.io import *\n",
    "from matplotlib_venn import venn3\n",
    "from pymodulon.enrichment import *\n",
    "import os\n",
    "from statsmodels.stats.multitest import fdrcorrection\n",
    "\n",
    "base_dir = '/home/chris/zuniga/iModulonMiner'\n",
    "TRN_df = pd.read_csv(os.path.join(base_dir, 'data', 'external', 'TRN.csv'), index_col = 0)\n",
    "#ica_data = load_json_model(os.path.join(base_dir, 'data', 'interim', 'zmo_raw.json.gz'))\n",
    "data_dir = os.path.join('..','data','processed_data')\n",
    "interim_dir = os.path.join('..','data','interim')\n",
    "ica_data = load_json_model(os.path.join(data_dir,'ZM4_ica.json.gz'))"
   ]
  },
  {
   "cell_type": "code",
   "execution_count": 4,
   "id": "34a61929-4270-4393-be10-ab08f629e1af",
   "metadata": {
    "tags": []
   },
   "outputs": [
    {
     "data": {
      "image/png": "[encoded data removed]",
      "text/plain": [
       "<Figure size 640x480 with 1 Axes>"
      ]
     },
     "metadata": {},
     "output_type": "display_data"
    }
   ],
   "source": [
    "all_genes = set(ica_data.gene_table.index)\n",
    "DAP_genes = set(TRN_df.gene_id)\n",
    "df = ica_data.gene_table.fillna(0)\n",
    "iM_genes = set(df[df['iMs'] != 0].index)\n",
    "df = ica_data.gene_table\n",
    "FIMO_genes = set(df[[type(val) != float and len(val) > 2 for val in ica_data.gene_table['FIMO_regulators']]].index)\n",
    "\n",
    "\n",
    "venn3([DAP_genes, FIMO_genes, iM_genes], ('DAP_genes', 'FIMO_genes', 'iM_genes'))\n",
    "plt.savefig(os.path.join(base_dir, 'figures', 'venn3_overlap.pdf'), transparent = True)\n",
    "plt.show()"
   ]
  },
  {
   "cell_type": "code",
   "execution_count": 5,
   "id": "5f5a1021-cc92-4e78-bcd6-8c3bc0f4ea50",
   "metadata": {},
   "outputs": [],
   "source": [
    "shared = list(DAP_genes.intersection(FIMO_genes).intersection(iM_genes))"
   ]
  },
  {
   "cell_type": "code",
   "execution_count": 6,
   "id": "e413971b-9fd9-4bc6-a328-02121d7ee1dd",
   "metadata": {},
   "outputs": [],
   "source": [
    "a = ica_data.gene_table.loc[shared]['COG'].value_counts() / len(shared)\n",
    "a1 = ica_data.gene_table.loc[list(iM_genes)]['COG'].value_counts() / len(list(iM_genes))"
   ]
  },
  {
   "cell_type": "code",
   "execution_count": 7,
   "id": "328ac924-d588-4ffa-a12d-55cfdaf2f8de",
   "metadata": {},
   "outputs": [],
   "source": [
    "b = ica_data.gene_table['COG'].value_counts() / len(ica_data.gene_table.index)"
   ]
  },
  {
   "cell_type": "code",
   "execution_count": 8,
   "id": "318a25ad-316d-4871-9f72-2e245aaa1243",
   "metadata": {},
   "outputs": [
    {
     "data": {
      "text/plain": [
       "COG\n",
       "Replication, recombination and repair                               -0.023651\n",
       "Cell wall/membrane/envelope biogenesis                              -0.018781\n",
       "Nucleotide transport and metabolism                                 -0.014384\n",
       "Amino acid transport and metabolism                                 -0.012762\n",
       "Cell cycle control, cell division, chromosome partitioning          -0.011355\n",
       "Coenzyme transport and metabolism                                   -0.010691\n",
       "Lipid transport and metabolism                                      -0.010501\n",
       "Signal transduction mechanisms                                      -0.006390\n",
       "Intracellular trafficking, secretion, and vesicular transport       -0.004956\n",
       "Carbohydrate transport and metabolism                               -0.004330\n",
       "Secondary metabolites biosynthesis, transport, and catabolism       -0.001073\n",
       "Defense mechanisms                                                   0.000465\n",
       "No COG category                                                      0.001927\n",
       "Translation, ribosomal structure and biogenesis                      0.003397\n",
       "Transcription                                                        0.004300\n",
       "Function unknown                                                     0.007649\n",
       "Inorganic ion transport and metabolism                               0.009028\n",
       "Post-translational modification, protein turnover, and chaperones    0.009190\n",
       "Cell motility                                                        0.010491\n",
       "Energy production and conversion                                     0.013671\n",
       "No COG annotation                                                    0.058758\n",
       "Name: count, dtype: float64"
      ]
     },
     "execution_count": 8,
     "metadata": {},
     "output_type": "execute_result"
    }
   ],
   "source": [
    "(a1 - b).sort_values()"
   ]
  },
  {
   "cell_type": "code",
   "execution_count": 11,
   "id": "86f8567f-29d7-41f3-b177-c7f73ddc740e",
   "metadata": {},
   "outputs": [],
   "source": [
    "df = ica_data.gene_table\n",
    "og_use = iM_genes-FIMO_genes-DAP_genes\n",
    "results = []\n",
    "for COG in a.index:\n",
    "    target = df[df['COG'] == COG].index.to_list()\n",
    "    gene_set = list(og_use)\n",
    "    res = compute_enrichment(gene_set, target, df.index)\n",
    "    results.append(res)\n",
    "res_df = pd.DataFrame(results)\n",
    "res_df['COG'] = a.index\n",
    "_, qvalues = fdrcorrection(res_df['pvalue'])\n",
    "res_df['qvalue'] = qvalues\n",
    "res_df = res_df[['COG', 'pvalue', 'qvalue', 'precision', 'recall', 'f1score', 'TP', 'target_set_size', 'gene_set_size']]"
   ]
  },
  {
   "cell_type": "code",
   "execution_count": 12,
   "id": "f4cbc41d-f1c9-4130-853d-67c7990fb599",
   "metadata": {},
   "outputs": [
    {
     "data": {
      "text/html": [
       "<div>\n",
       "<style scoped>\n",
       "    .dataframe tbody tr th:only-of-type {\n",
       "        vertical-align: middle;\n",
       "    }\n",
       "\n",
       "    .dataframe tbody tr th {\n",
       "        vertical-align: top;\n",
       "    }\n",
       "\n",
       "    .dataframe thead th {\n",
       "        text-align: right;\n",
       "    }\n",
       "</style>\n",
       "<table border=\"1\" class=\"dataframe\">\n",
       "  <thead>\n",
       "    <tr style=\"text-align: right;\">\n",
       "      <th></th>\n",
       "      <th>COG</th>\n",
       "      <th>pvalue</th>\n",
       "      <th>qvalue</th>\n",
       "      <th>precision</th>\n",
       "      <th>recall</th>\n",
       "      <th>f1score</th>\n",
       "      <th>TP</th>\n",
       "      <th>target_set_size</th>\n",
       "      <th>gene_set_size</th>\n",
       "    </tr>\n",
       "  </thead>\n",
       "  <tbody>\n",
       "    <tr>\n",
       "      <th>11</th>\n",
       "      <td>Translation, ribosomal structure and biogenesis</td>\n",
       "      <td>2.142331e-08</td>\n",
       "      <td>4.070429e-07</td>\n",
       "      <td>0.191589</td>\n",
       "      <td>0.264516</td>\n",
       "      <td>0.222222</td>\n",
       "      <td>41.0</td>\n",
       "      <td>155.0</td>\n",
       "      <td>214.0</td>\n",
       "    </tr>\n",
       "    <tr>\n",
       "      <th>16</th>\n",
       "      <td>Cell motility</td>\n",
       "      <td>6.482466e-04</td>\n",
       "      <td>6.158343e-03</td>\n",
       "      <td>0.060748</td>\n",
       "      <td>0.295455</td>\n",
       "      <td>0.100775</td>\n",
       "      <td>13.0</td>\n",
       "      <td>44.0</td>\n",
       "      <td>214.0</td>\n",
       "    </tr>\n",
       "    <tr>\n",
       "      <th>6</th>\n",
       "      <td>Energy production and conversion</td>\n",
       "      <td>1.336093e-03</td>\n",
       "      <td>8.461923e-03</td>\n",
       "      <td>0.102804</td>\n",
       "      <td>0.215686</td>\n",
       "      <td>0.139241</td>\n",
       "      <td>22.0</td>\n",
       "      <td>102.0</td>\n",
       "      <td>214.0</td>\n",
       "    </tr>\n",
       "    <tr>\n",
       "      <th>9</th>\n",
       "      <td>Post-translational modification, protein turno...</td>\n",
       "      <td>3.038213e-02</td>\n",
       "      <td>1.443151e-01</td>\n",
       "      <td>0.060748</td>\n",
       "      <td>0.194030</td>\n",
       "      <td>0.092527</td>\n",
       "      <td>13.0</td>\n",
       "      <td>67.0</td>\n",
       "      <td>214.0</td>\n",
       "    </tr>\n",
       "    <tr>\n",
       "      <th>14</th>\n",
       "      <td>Coenzyme transport and metabolism</td>\n",
       "      <td>6.588716e-02</td>\n",
       "      <td>2.503712e-01</td>\n",
       "      <td>0.065421</td>\n",
       "      <td>0.170732</td>\n",
       "      <td>0.094595</td>\n",
       "      <td>14.0</td>\n",
       "      <td>82.0</td>\n",
       "      <td>214.0</td>\n",
       "    </tr>\n",
       "  </tbody>\n",
       "</table>\n",
       "</div>"
      ],
      "text/plain": [
       "                                                  COG        pvalue  \\\n",
       "11    Translation, ribosomal structure and biogenesis  2.142331e-08   \n",
       "16                                      Cell motility  6.482466e-04   \n",
       "6                    Energy production and conversion  1.336093e-03   \n",
       "9   Post-translational modification, protein turno...  3.038213e-02   \n",
       "14                  Coenzyme transport and metabolism  6.588716e-02   \n",
       "\n",
       "          qvalue  precision    recall   f1score    TP  target_set_size  \\\n",
       "11  4.070429e-07   0.191589  0.264516  0.222222  41.0            155.0   \n",
       "16  6.158343e-03   0.060748  0.295455  0.100775  13.0             44.0   \n",
       "6   8.461923e-03   0.102804  0.215686  0.139241  22.0            102.0   \n",
       "9   1.443151e-01   0.060748  0.194030  0.092527  13.0             67.0   \n",
       "14  2.503712e-01   0.065421  0.170732  0.094595  14.0             82.0   \n",
       "\n",
       "    gene_set_size  \n",
       "11          214.0  \n",
       "16          214.0  \n",
       "6           214.0  \n",
       "9           214.0  \n",
       "14          214.0  "
      ]
     },
     "execution_count": 12,
     "metadata": {},
     "output_type": "execute_result"
    }
   ],
   "source": [
    "res_df.sort_values(by = 'qvalue').head()"
   ]
  },
  {
   "cell_type": "code",
   "execution_count": 13,
   "id": "d48a2c7e-5d69-40cb-9a14-5b92917266d1",
   "metadata": {},
   "outputs": [
    {
     "data": {
      "text/plain": [
       "214"
      ]
     },
     "execution_count": 13,
     "metadata": {},
     "output_type": "execute_result"
    }
   ],
   "source": [
    "len(og_use)"
   ]
  },
  {
   "cell_type": "code",
   "execution_count": 25,
   "id": "1ccbb130-ae1c-4fe7-9f1f-bf52f69ecd06",
   "metadata": {},
   "outputs": [
    {
     "data": {
      "text/plain": [
       "array([9.99946230e-01, 1.32367562e-02, 3.32677392e-04, 9.99946230e-01,\n",
       "       9.99946230e-01, 6.80769212e-03, 9.99946230e-01, 9.99946230e-01,\n",
       "       9.99946230e-01, 9.99946230e-01, 9.99946230e-01, 5.54788718e-01,\n",
       "       3.32489515e-01, 3.32489515e-01, 9.99946230e-01, 9.99946230e-01,\n",
       "       9.99946230e-01, 9.99946230e-01])"
      ]
     },
     "execution_count": 25,
     "metadata": {},
     "output_type": "execute_result"
    }
   ],
   "source": [
    "qvalues"
   ]
  },
  {
   "cell_type": "code",
   "execution_count": null,
   "id": "1968b3df",
   "metadata": {},
   "outputs": [],
   "source": []
  }
 ],
 "metadata": {
  "kernelspec": {
   "display_name": "Python 3 (ipykernel)",
   "language": "python",
   "name": "python3"
  },
  "language_info": {
   "codemirror_mode": {
    "name": "ipython",
    "version": 3
   },
   "file_extension": ".py",
   "mimetype": "text/x-python",
   "name": "python",
   "nbconvert_exporter": "python",
   "pygments_lexer": "ipython3",
   "version": "3.10.0"
  }
 },
 "nbformat": 4,
 "nbformat_minor": 5
}
