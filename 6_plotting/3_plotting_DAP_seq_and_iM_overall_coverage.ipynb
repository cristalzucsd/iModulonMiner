{
 "cells": [
  {
   "cell_type": "code",
   "execution_count": 21,
   "id": "9e85e7ce-c8bc-4748-b8dc-b792ceb6872b",
   "metadata": {
    "tags": []
   },
   "outputs": [
    {
     "name": "stderr",
     "output_type": "stream",
     "text": [
      "/home/chris/miniforge3/envs/iM_miner/lib/python3.10/site-packages/pymodulon/util.py:31: FutureWarning: Passing literal json to 'read_json' is deprecated and will be removed in a future version. To read from a literal string, wrap it in a 'StringIO' object.\n",
      "  table = pd.read_json(table)\n",
      "/home/chris/miniforge3/envs/iM_miner/lib/python3.10/site-packages/pymodulon/util.py:31: FutureWarning: Passing literal json to 'read_json' is deprecated and will be removed in a future version. To read from a literal string, wrap it in a 'StringIO' object.\n",
      "  table = pd.read_json(table)\n",
      "/home/chris/miniforge3/envs/iM_miner/lib/python3.10/site-packages/pymodulon/util.py:31: FutureWarning: Passing literal json to 'read_json' is deprecated and will be removed in a future version. To read from a literal string, wrap it in a 'StringIO' object.\n",
      "  table = pd.read_json(table)\n",
      "/home/chris/miniforge3/envs/iM_miner/lib/python3.10/site-packages/pymodulon/util.py:31: FutureWarning: Passing literal json to 'read_json' is deprecated and will be removed in a future version. To read from a literal string, wrap it in a 'StringIO' object.\n",
      "  table = pd.read_json(table)\n",
      "/home/chris/miniforge3/envs/iM_miner/lib/python3.10/site-packages/pymodulon/util.py:31: FutureWarning: Passing literal json to 'read_json' is deprecated and will be removed in a future version. To read from a literal string, wrap it in a 'StringIO' object.\n",
      "  table = pd.read_json(table)\n",
      "/home/chris/miniforge3/envs/iM_miner/lib/python3.10/site-packages/pymodulon/util.py:31: FutureWarning: Passing literal json to 'read_json' is deprecated and will be removed in a future version. To read from a literal string, wrap it in a 'StringIO' object.\n",
      "  table = pd.read_json(table)\n",
      "/home/chris/miniforge3/envs/iM_miner/lib/python3.10/site-packages/pymodulon/util.py:31: FutureWarning: Passing literal json to 'read_json' is deprecated and will be removed in a future version. To read from a literal string, wrap it in a 'StringIO' object.\n",
      "  table = pd.read_json(table)\n"
     ]
    }
   ],
   "source": [
    "# imports and loading\n",
    "import pandas as pd\n",
    "import matplotlib.pyplot as plt\n",
    "import matplotlib as mpl\n",
    "mpl.rcParams['pdf.fonttype'] = 42\n",
    "from pymodulon.io import *\n",
    "from matplotlib_venn import venn3\n",
    "from pymodulon.enrichment import *\n",
    "import os\n",
    "from statsmodels.stats.multitest import fdrcorrection\n",
    "\n",
    "base_dir = '/home/chris/zuniga/iModulonMiner'\n",
    "TRN_df = pd.read_csv(os.path.join(base_dir, 'data', 'external', 'TRN.csv'), index_col = 0)\n",
    "ica_data = load_json_model(os.path.join(base_dir, 'data', 'interim', 'zmo_raw.json.gz'))\n"
   ]
  },
  {
   "cell_type": "code",
   "execution_count": 11,
   "id": "34a61929-4270-4393-be10-ab08f629e1af",
   "metadata": {
    "tags": []
   },
   "outputs": [
    {
     "data": {
      "image/png": "[encoded data removed]",
      "text/plain": [
       "<Figure size 640x480 with 1 Axes>"
      ]
     },
     "metadata": {},
     "output_type": "display_data"
    }
   ],
   "source": [
    "all_genes = set(ica_data.gene_table.index)\n",
    "DAP_genes = set(TRN_df.gene_id)\n",
    "df = ica_data.gene_table.fillna(0)\n",
    "iM_genes = set(df[df['iMs'] != 0].index)\n",
    "df = ica_data.gene_table\n",
    "FIMO_genes = set(df[[len(val) > 2 for val in ica_data.gene_table['FIMO_regulators']]].index)\n",
    "\n",
    "\n",
    "venn3([DAP_genes, FIMO_genes, iM_genes], ('DAP_genes', 'FIMO_genes', 'iM_genes'))\n",
    "plt.savefig(os.path.join(base_dir, 'figures', 'venn3_overlap.pdf'), transparent = True)\n",
    "plt.show()"
   ]
  },
  {
   "cell_type": "code",
   "execution_count": 12,
   "id": "5f5a1021-cc92-4e78-bcd6-8c3bc0f4ea50",
   "metadata": {},
   "outputs": [],
   "source": [
    "shared = list(DAP_genes.intersection(FIMO_genes).intersection(iM_genes))"
   ]
  },
  {
   "cell_type": "code",
   "execution_count": 13,
   "id": "e413971b-9fd9-4bc6-a328-02121d7ee1dd",
   "metadata": {},
   "outputs": [],
   "source": [
    "a = ica_data.gene_table.loc[shared]['COG'].value_counts() / len(shared)\n",
    "a1 = ica_data.gene_table.loc[list(iM_genes)]['COG'].value_counts() / len(list(iM_genes))"
   ]
  },
  {
   "cell_type": "code",
   "execution_count": 14,
   "id": "328ac924-d588-4ffa-a12d-55cfdaf2f8de",
   "metadata": {},
   "outputs": [],
   "source": [
    "b = ica_data.gene_table['COG'].value_counts() / len(ica_data.gene_table.index)"
   ]
  },
  {
   "cell_type": "code",
   "execution_count": 15,
   "id": "318a25ad-316d-4871-9f72-2e245aaa1243",
   "metadata": {},
   "outputs": [
    {
     "data": {
      "text/plain": [
       "COG\n",
       "Replication, recombination and repair                               -0.024979\n",
       "Nucleotide transport and metabolism                                 -0.015181\n",
       "Lipid transport and metabolism                                      -0.011379\n",
       "Amino acid transport and metabolism                                 -0.010641\n",
       "Cell cycle control, cell division, chromosome partitioning          -0.009232\n",
       "Post-translational modification, protein turnover, and chaperones   -0.008624\n",
       "Coenzyme transport and metabolism                                   -0.008602\n",
       "Function unknown                                                    -0.007629\n",
       "Intracellular trafficking, secretion, and vesicular transport       -0.005959\n",
       "Secondary metabolites biosynthesis, transport, and catabolism       -0.004886\n",
       "Transcription                                                       -0.003107\n",
       "Defense mechanisms                                                  -0.001036\n",
       "Signal transduction mechanisms                                      -0.000475\n",
       "Cell wall/membrane/envelope biogenesis                               0.000220\n",
       "Carbohydrate transport and metabolism                                0.006120\n",
       "Cell motility                                                        0.007732\n",
       "Translation, ribosomal structure and biogenesis                      0.013388\n",
       "Energy production and conversion                                     0.025317\n",
       "Inorganic ion transport and metabolism                               0.028547\n",
       "No COG annotation                                                    0.030406\n",
       "Name: count, dtype: float64"
      ]
     },
     "execution_count": 15,
     "metadata": {},
     "output_type": "execute_result"
    }
   ],
   "source": [
    "(a1 - b).sort_values()"
   ]
  },
  {
   "cell_type": "code",
   "execution_count": 31,
   "id": "86f8567f-29d7-41f3-b177-c7f73ddc740e",
   "metadata": {},
   "outputs": [],
   "source": [
    "df = ica_data.gene_table\n",
    "og_use = iM_genes\n",
    "results = []\n",
    "for COG in a.index:\n",
    "    target = df[df['COG'] == COG].index.to_list()\n",
    "    gene_set = list(og_use)\n",
    "    res = compute_enrichment(gene_set, target, df.index)\n",
    "    results.append(res)\n",
    "res_df = pd.DataFrame(results)\n",
    "res_df['COG'] = a.index\n",
    "_, qvalues = fdrcorrection(res_df['pvalue'])\n",
    "res_df['qvalue'] = qvalues\n",
    "res_df = res_df[['COG', 'pvalue', 'qvalue', 'precision', 'recall', 'f1score', 'TP', 'target_set_size', 'gene_set_size']]"
   ]
  },
  {
   "cell_type": "code",
   "execution_count": 32,
   "id": "f4cbc41d-f1c9-4130-853d-67c7990fb599",
   "metadata": {},
   "outputs": [
    {
     "data": {
      "text/html": [
       "<div>\n",
       "<style scoped>\n",
       "    .dataframe tbody tr th:only-of-type {\n",
       "        vertical-align: middle;\n",
       "    }\n",
       "\n",
       "    .dataframe tbody tr th {\n",
       "        vertical-align: top;\n",
       "    }\n",
       "\n",
       "    .dataframe thead th {\n",
       "        text-align: right;\n",
       "    }\n",
       "</style>\n",
       "<table border=\"1\" class=\"dataframe\">\n",
       "  <thead>\n",
       "    <tr style=\"text-align: right;\">\n",
       "      <th></th>\n",
       "      <th>COG</th>\n",
       "      <th>pvalue</th>\n",
       "      <th>qvalue</th>\n",
       "      <th>precision</th>\n",
       "      <th>recall</th>\n",
       "      <th>f1score</th>\n",
       "      <th>TP</th>\n",
       "      <th>target_set_size</th>\n",
       "      <th>gene_set_size</th>\n",
       "    </tr>\n",
       "  </thead>\n",
       "  <tbody>\n",
       "    <tr>\n",
       "      <th>2</th>\n",
       "      <td>Inorganic ion transport and metabolism</td>\n",
       "      <td>0.000018</td>\n",
       "      <td>0.000333</td>\n",
       "      <td>0.068852</td>\n",
       "      <td>0.567568</td>\n",
       "      <td>0.122807</td>\n",
       "      <td>42.0</td>\n",
       "      <td>74.0</td>\n",
       "      <td>610.0</td>\n",
       "    </tr>\n",
       "    <tr>\n",
       "      <th>5</th>\n",
       "      <td>Energy production and conversion</td>\n",
       "      <td>0.000756</td>\n",
       "      <td>0.006808</td>\n",
       "      <td>0.080328</td>\n",
       "      <td>0.485149</td>\n",
       "      <td>0.137834</td>\n",
       "      <td>49.0</td>\n",
       "      <td>101.0</td>\n",
       "      <td>610.0</td>\n",
       "    </tr>\n",
       "    <tr>\n",
       "      <th>1</th>\n",
       "      <td>No COG annotation</td>\n",
       "      <td>0.002206</td>\n",
       "      <td>0.013237</td>\n",
       "      <td>0.137705</td>\n",
       "      <td>0.426396</td>\n",
       "      <td>0.208178</td>\n",
       "      <td>84.0</td>\n",
       "      <td>197.0</td>\n",
       "      <td>610.0</td>\n",
       "    </tr>\n",
       "    <tr>\n",
       "      <th>13</th>\n",
       "      <td>Cell motility</td>\n",
       "      <td>0.092358</td>\n",
       "      <td>0.332490</td>\n",
       "      <td>0.032787</td>\n",
       "      <td>0.434783</td>\n",
       "      <td>0.060976</td>\n",
       "      <td>20.0</td>\n",
       "      <td>46.0</td>\n",
       "      <td>610.0</td>\n",
       "    </tr>\n",
       "    <tr>\n",
       "      <th>12</th>\n",
       "      <td>Translation, ribosomal structure and biogenesis</td>\n",
       "      <td>0.085675</td>\n",
       "      <td>0.332490</td>\n",
       "      <td>0.096721</td>\n",
       "      <td>0.385621</td>\n",
       "      <td>0.154653</td>\n",
       "      <td>59.0</td>\n",
       "      <td>153.0</td>\n",
       "      <td>610.0</td>\n",
       "    </tr>\n",
       "  </tbody>\n",
       "</table>\n",
       "</div>"
      ],
      "text/plain": [
       "                                                COG    pvalue    qvalue  \\\n",
       "2            Inorganic ion transport and metabolism  0.000018  0.000333   \n",
       "5                  Energy production and conversion  0.000756  0.006808   \n",
       "1                                 No COG annotation  0.002206  0.013237   \n",
       "13                                    Cell motility  0.092358  0.332490   \n",
       "12  Translation, ribosomal structure and biogenesis  0.085675  0.332490   \n",
       "\n",
       "    precision    recall   f1score    TP  target_set_size  gene_set_size  \n",
       "2    0.068852  0.567568  0.122807  42.0             74.0          610.0  \n",
       "5    0.080328  0.485149  0.137834  49.0            101.0          610.0  \n",
       "1    0.137705  0.426396  0.208178  84.0            197.0          610.0  \n",
       "13   0.032787  0.434783  0.060976  20.0             46.0          610.0  \n",
       "12   0.096721  0.385621  0.154653  59.0            153.0          610.0  "
      ]
     },
     "execution_count": 32,
     "metadata": {},
     "output_type": "execute_result"
    }
   ],
   "source": [
    "res_df.sort_values(by = 'qvalue').head()"
   ]
  },
  {
   "cell_type": "code",
   "execution_count": null,
   "id": "d48a2c7e-5d69-40cb-9a14-5b92917266d1",
   "metadata": {},
   "outputs": [],
   "source": []
  },
  {
   "cell_type": "code",
   "execution_count": 25,
   "id": "1ccbb130-ae1c-4fe7-9f1f-bf52f69ecd06",
   "metadata": {},
   "outputs": [
    {
     "data": {
      "text/plain": [
       "array([9.99946230e-01, 1.32367562e-02, 3.32677392e-04, 9.99946230e-01,\n",
       "       9.99946230e-01, 6.80769212e-03, 9.99946230e-01, 9.99946230e-01,\n",
       "       9.99946230e-01, 9.99946230e-01, 9.99946230e-01, 5.54788718e-01,\n",
       "       3.32489515e-01, 3.32489515e-01, 9.99946230e-01, 9.99946230e-01,\n",
       "       9.99946230e-01, 9.99946230e-01])"
      ]
     },
     "execution_count": 25,
     "metadata": {},
     "output_type": "execute_result"
    }
   ],
   "source": [
    "qvalues"
   ]
  },
  {
   "cell_type": "code",
   "execution_count": null,
   "id": "1968b3df",
   "metadata": {},
   "outputs": [],
   "source": []
  }
 ],
 "metadata": {
  "kernelspec": {
   "display_name": "Python 3 (ipykernel)",
   "language": "python",
   "name": "python3"
  },
  "language_info": {
   "codemirror_mode": {
    "name": "ipython",
    "version": 3
   },
   "file_extension": ".py",
   "mimetype": "text/x-python",
   "name": "python",
   "nbconvert_exporter": "python",
   "pygments_lexer": "ipython3",
   "version": "3.10.0"
  }
 },
 "nbformat": 4,
 "nbformat_minor": 5
}
