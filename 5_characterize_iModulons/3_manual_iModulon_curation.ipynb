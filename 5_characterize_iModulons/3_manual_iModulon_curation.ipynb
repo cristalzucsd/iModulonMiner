{
 "cells": [
  {
   "cell_type": "code",
   "execution_count": 1,
   "metadata": {
    "tags": []
   },
   "outputs": [
    {
     "name": "stderr",
     "output_type": "stream",
     "text": [
      "/home/chris/miniforge3/envs/iM_miner/lib/python3.10/site-packages/pymodulon/util.py:31: FutureWarning: Passing literal json to 'read_json' is deprecated and will be removed in a future version. To read from a literal string, wrap it in a 'StringIO' object.\n",
      "  table = pd.read_json(table)\n",
      "/home/chris/miniforge3/envs/iM_miner/lib/python3.10/site-packages/pymodulon/util.py:31: FutureWarning: Passing literal json to 'read_json' is deprecated and will be removed in a future version. To read from a literal string, wrap it in a 'StringIO' object.\n",
      "  table = pd.read_json(table)\n",
      "/home/chris/miniforge3/envs/iM_miner/lib/python3.10/site-packages/pymodulon/util.py:31: FutureWarning: Passing literal json to 'read_json' is deprecated and will be removed in a future version. To read from a literal string, wrap it in a 'StringIO' object.\n",
      "  table = pd.read_json(table)\n",
      "/home/chris/miniforge3/envs/iM_miner/lib/python3.10/site-packages/pymodulon/util.py:31: FutureWarning: Passing literal json to 'read_json' is deprecated and will be removed in a future version. To read from a literal string, wrap it in a 'StringIO' object.\n",
      "  table = pd.read_json(table)\n",
      "/home/chris/miniforge3/envs/iM_miner/lib/python3.10/site-packages/pymodulon/util.py:31: FutureWarning: Passing literal json to 'read_json' is deprecated and will be removed in a future version. To read from a literal string, wrap it in a 'StringIO' object.\n",
      "  table = pd.read_json(table)\n",
      "/home/chris/miniforge3/envs/iM_miner/lib/python3.10/site-packages/pymodulon/util.py:31: FutureWarning: Passing literal json to 'read_json' is deprecated and will be removed in a future version. To read from a literal string, wrap it in a 'StringIO' object.\n",
      "  table = pd.read_json(table)\n",
      "/home/chris/miniforge3/envs/iM_miner/lib/python3.10/site-packages/pymodulon/util.py:31: FutureWarning: Passing literal json to 'read_json' is deprecated and will be removed in a future version. To read from a literal string, wrap it in a 'StringIO' object.\n",
      "  table = pd.read_json(table)\n"
     ]
    }
   ],
   "source": [
    "# imports and loading\n",
    "from pymodulon.io import *\n",
    "from pymodulon.plotting import *\n",
    "from scipy.stats import fisher_exact, chi2_contingency\n",
    "from statsmodels.stats.multitest import multipletests\n",
    "from os import path\n",
    "import seaborn as sns\n",
    "import ast \n",
    "import matplotlib as mpl\n",
    "mpl.rcParams['pdf.fonttype'] = 42\n",
    "import scipy.cluster.hierarchy as sch\n",
    "import matplotlib.patches as patches\n",
    "\n",
    "external_data = path.join('..','data','external')\n",
    "df_trn = pd.read_csv(path.join(external_data,'TRN.csv'))\n",
    "\n",
    "\n",
    "data_dir = path.join('..','data','processed_data')\n",
    "interim_dir = path.join('..','data','interim')\n",
    "ica_data = load_json_model(path.join(data_dir,'ZM4_ica.json.gz'))\n",
    "\n",
    "# let's create a metadata enrichment function\n",
    "def metadata_enrichment(ica_data, iM, categories = ['project','gene_KO', 'Strain Description', 'Evolved Sample', 'Base Media', 'Temperature (C)', 'pH', 'Carbon Source (g/L)', 'Supplement', 'Growth Rate (1/hr)', 'Isolate Type', 'lab', 'Aerobicity']):\n",
    "    # first let's find the samples where the iM is active\n",
    "    vals = abs(ica_data.A.loc[iM].values)\n",
    "    avg = np.mean(vals)\n",
    "    std = np.std(vals)\n",
    "    active_samps = ica_data.A.columns[vals > (avg + 2*std)]\n",
    "    samp_table = ica_data.sample_table.fillna('nan')\n",
    "    samp_table['is_active'] = samp_table.index.isin(active_samps)\n",
    "    \n",
    "    # now enrichment against the categories\n",
    "    return_dfs = []\n",
    "    for cat in categories:\n",
    "        # try each type of category found in the active samples\n",
    "        contingency_table = pd.crosstab(samp_table[cat], samp_table['is_active'])\n",
    "        _, pval, dof, expected = chi2_contingency(contingency_table)\n",
    "        observed = contingency_table.values\n",
    "        observed_df = pd.DataFrame(observed, index=contingency_table.index, columns=contingency_table.columns)\n",
    "        residuals = (observed - expected) / (expected ** 0.5)\n",
    "        residuals_df = pd.DataFrame(residuals, index=contingency_table.index, columns=contingency_table.columns)\n",
    "        most_abnormal = abs(residuals_df).sort_values(by = True, ascending = False).index[0]\n",
    "        \n",
    "        # calculate precision and recall of most abnormal\n",
    "        true_pos = observed_df.loc[most_abnormal][True]\n",
    "        false_pos = observed_df.loc[most_abnormal][False]\n",
    "        false_neg = observed_df[True].sum() - true_pos\n",
    "        precision = true_pos / (true_pos + false_pos)\n",
    "        recall = true_pos / (true_pos + false_neg)\n",
    "        \n",
    "        return_dfs.append([cat, pval, most_abnormal, precision, recall])\n",
    "    \n",
    "    output_df = pd.DataFrame(return_dfs, columns = ['Category', 'p_value', 'most_enriched', 'precision', 'recall'])\n",
    "    _, q_values, _, _ = multipletests(output_df['p_value'], method='fdr_bh')\n",
    "    output_df['q_value'] = q_values\n",
    "    output_df = output_df.set_index('Category').sort_values(by = 'p_value')[['p_value', 'q_value', 'most_enriched', 'precision', 'recall']]\n",
    "    \n",
    "    return(output_df)\n",
    "\n",
    "# gene table enrichment\n",
    "def genes_enrichment(ica_data, iM, categories = ['strand', 'gene_product', 'COG', 'accession']):\n",
    "    # first let's find the samples where the iM is active\n",
    "    vals = abs(ica_data.A.loc[iM].values)\n",
    "    avg = np.mean(vals)\n",
    "    std = np.std(vals)\n",
    "    active_samps = ica_data.view_imodulon(iM).index\n",
    "    samp_table = ica_data.gene_table.fillna('nan')\n",
    "    samp_table['is_active'] = samp_table.index.isin(active_samps)\n",
    "    \n",
    "    # now enrichment against the categories\n",
    "    return_dfs = []\n",
    "    for cat in categories:\n",
    "        # try each type of category found in the active samples\n",
    "        contingency_table = pd.crosstab(samp_table[cat], samp_table['is_active'])\n",
    "        _, pval, dof, expected = chi2_contingency(contingency_table)\n",
    "        observed = contingency_table.values\n",
    "        observed_df = pd.DataFrame(observed, index=contingency_table.index, columns=contingency_table.columns)\n",
    "        residuals = (observed - expected) / (expected ** 0.5)\n",
    "        residuals_df = pd.DataFrame(residuals, index=contingency_table.index, columns=contingency_table.columns)\n",
    "        most_abnormal = abs(residuals_df).sort_values(by = True, ascending = False).index[0]\n",
    "        \n",
    "        # calculate precision and recall of most abnormal\n",
    "        true_pos = observed_df.loc[most_abnormal][True]\n",
    "        false_pos = observed_df.loc[most_abnormal][False]\n",
    "        false_neg = observed_df[True].sum() - true_pos\n",
    "        precision = true_pos / (true_pos + false_pos)\n",
    "        recall = true_pos / (true_pos + false_neg)\n",
    "        \n",
    "        return_dfs.append([cat, pval, most_abnormal, precision, recall])\n",
    "    \n",
    "    output_df = pd.DataFrame(return_dfs, columns = ['Category', 'p_value', 'most_enriched', 'precision', 'recall'])\n",
    "    _, q_values, _, _ = multipletests(output_df['p_value'], method='fdr_bh')\n",
    "    output_df['q_value'] = q_values\n",
    "    output_df = output_df.set_index('Category').sort_values(by = 'p_value')[['p_value', 'q_value', 'most_enriched', 'precision', 'recall']]\n",
    "    \n",
    "    return(output_df)\n",
    "\n",
    "def custom_plot_gene_weights(ica_data, imodulon, by=\"start\", xaxis=None, xname=\"\", **kwargs):\n",
    "    \"\"\"\n",
    "    Plot gene weights on a scatter plot.\n",
    "\n",
    "    Parameters\n",
    "    ----------\n",
    "    ica_data: ~pymodulon.core.IcaData\n",
    "        :class:`~pymodulon.core.IcaData` object\n",
    "    imodulon : int or str\n",
    "        `iModulon` name\n",
    "    by: 'log-tpm-norm', 'length', or 'start'\n",
    "        Property to plot on x-axis. Superceded by `xaxis`\n",
    "    xaxis: list, dict or ~pandas.Series, optional\n",
    "        Values on custom x-axis\n",
    "    xname: str, optional\n",
    "        Name of x-axis if using custom x-axis\n",
    "    **kwargs:\n",
    "        Additional keyword arguments passed to :func:`pymodulon.plotting.scatterplot`\n",
    "    Returns\n",
    "    -------\n",
    "    ax: ~matplotlib.axes.Axes\n",
    "        :class:`~matplotlib.axes.Axes` containing the scatterplot\n",
    "    \"\"\"\n",
    "    # Check that iModulon exists\n",
    "    if imodulon in ica_data.M.columns:\n",
    "        y = ica_data.M[imodulon]\n",
    "        ylabel = f\"{imodulon} Gene Weight\"\n",
    "    else:\n",
    "        raise ValueError(f\"iModulon does not exist: {imodulon}\")\n",
    "\n",
    "    # Get genes in the iModulon\n",
    "    bin_M = ica_data.M_binarized\n",
    "    component_genes = set(bin_M[imodulon].loc[bin_M[imodulon] == 1].index)\n",
    "    other_genes = set(bin_M[imodulon].loc[bin_M[imodulon] == 0].index)\n",
    "\n",
    "    # If experimental `xaxis` parameter is used, use custom values for x-axis\n",
    "    if xaxis is not None:\n",
    "        x = _set_xaxis(xaxis=xaxis, y=y)\n",
    "        xlabel = xname\n",
    "\n",
    "    else:\n",
    "        #  Ensure 'by' has a valid input and assign x, xlabel accordingly\n",
    "        if by == \"log-tpm\":\n",
    "            x = ica_data.log_tpm.mean(axis=1)\n",
    "            xlabel = \"Mean Expression\"\n",
    "        elif by == \"log-tpm-norm\":\n",
    "            x = ica_data.X.mean(axis=1)\n",
    "            xlabel = \"Mean Centered Expression\"\n",
    "        elif by == \"length\":\n",
    "            x = np.log10(ica_data.gene_table.length)\n",
    "            xlabel = \"Gene Length (log10-scale)\"\n",
    "        elif by == \"start\":\n",
    "            x = ica_data.gene_table.start\n",
    "            xlabel = \"Gene Start\"\n",
    "        else:\n",
    "            raise ValueError(\n",
    "                '\"by\" must be \"log-tpm\", \"log-tpm-norm\", \"length\", ' 'or \"start\"'\n",
    "            )\n",
    "\n",
    "    # Override specific kwargs (their implementation is different\n",
    "    # in this function)\n",
    "    show_labels_pgw = kwargs.pop(\"show_labels\", \"auto\")\n",
    "    adjust_labels_pgw = kwargs.pop(\"adjust_labels\", True)\n",
    "    legend_kwargs_pgw = kwargs.pop(\"legend_kwargs\", {})\n",
    "    label_font_kwargs_pgw = kwargs.pop(\"label_font_kwargs\", {})\n",
    "\n",
    "    kwargs[\"show_labels\"] = kwargs[\"adjust_labels\"] = False\n",
    "\n",
    "    # Remove xlabel and ylabel kwargs if provided\n",
    "    kwargs.pop(\"xlabel\", None)\n",
    "    kwargs.pop(\"ylabel\", None)\n",
    "\n",
    "    # Default legend should be on the side of the plot\n",
    "    if (\n",
    "        \"bbox_to_anchor\" not in legend_kwargs_pgw.keys()\n",
    "        and \"loc\" not in legend_kwargs_pgw.keys()\n",
    "    ):\n",
    "        legend_kwargs_pgw.update({\"bbox_to_anchor\": (1, 1), \"loc\": 2})\n",
    "        kwargs[\"legend_kwargs\"] = legend_kwargs_pgw\n",
    "\n",
    "    # Update colors for COG groups\n",
    "    if \"COG\" in ica_data.gene_table.columns and \"groups\" not in kwargs:\n",
    "        mod_cogs = ica_data.gene_table.loc[list(component_genes)].COG\n",
    "        hidden_cogs = pd.Series(\"hidden\", index=other_genes)\n",
    "        all_cogs = pd.concat([mod_cogs, hidden_cogs])\n",
    "        # colors = {cog:ica_data.cog_colors[cog] for cog in sorted(mod_cogs.unique())}\n",
    "        kwargs.update({\"groups\": all_cogs, \"colors\": ica_data.cog_colors})\n",
    "\n",
    "    # Scatter Plot\n",
    "    ax = scatterplot(x, y, xlabel=xlabel, ylabel=ylabel, **kwargs)\n",
    "    \n",
    "    # add vertical lines at chromosome changes\n",
    "    if 'chromosome_id' in ica_data.gene_table.columns:\n",
    "        for grp in ica_data.gene_table.groupby('chromosome_id'):\n",
    "            plt.axvline(x = max(grp[1].fillna(0).end), ls = '--', c = 'k')\n",
    "\n",
    "    # Add thresholds to scatter-plot (dashed lines)\n",
    "    xmin, xmax = ax.get_xlim()\n",
    "    ymin, ymax = ax.get_ylim()\n",
    "\n",
    "    thresh = ica_data.thresholds[imodulon]\n",
    "    if thresh != 0:\n",
    "        ax.hlines(\n",
    "            [thresh, -thresh],\n",
    "            xmin=xmin,\n",
    "            xmax=xmax,\n",
    "            colors=\"k\",\n",
    "            linestyles=\"dashed\",\n",
    "            linewidth=1,\n",
    "        )\n",
    "\n",
    "    ax.set_xlim(xmin, xmax)\n",
    "    ax.set_ylim(ymin, ymax)\n",
    "\n",
    "    texts = []\n",
    "    expand_kwargs = {\"expand_objects\": (1.2, 1.4), \"expand_points\": (1.3, 1.3)}\n",
    "\n",
    "    # Add labels: Put gene name if components contain under 20 genes\n",
    "    if show_labels_pgw is True or (\n",
    "        show_labels_pgw is not False and len(component_genes) <= 20\n",
    "    ):\n",
    "        for gene in component_genes:\n",
    "\n",
    "            # Add labels\n",
    "            text_kwargs = label_font_kwargs_pgw.copy()\n",
    "\n",
    "            if \"fontstyle\" not in text_kwargs:\n",
    "                text_kwargs.update({\"fontstyle\": \"normal\"})\n",
    "\n",
    "            # Italicize gene if there is a defined name (not locus tag)\n",
    "            try:\n",
    "                gene_name = ica_data.gene_table.loc[gene, \"gene_name\"]\n",
    "\n",
    "                if gene_name != gene:\n",
    "                    text_kwargs.update({\"fontstyle\": \"italic\"})\n",
    "\n",
    "            except KeyError:\n",
    "                gene_name = gene\n",
    "\n",
    "            # Set default fontsize\n",
    "            if \"fontsize\" not in text_kwargs:\n",
    "                text_kwargs.update({\"fontsize\": 12})\n",
    "\n",
    "            texts.append(\n",
    "                ax.text(\n",
    "                    x[gene],\n",
    "                    ica_data.M.loc[gene, imodulon],\n",
    "                    gene_name,\n",
    "                    **text_kwargs,\n",
    "                )\n",
    "            )\n",
    "\n",
    "        expand_kwargs[\"expand_text\"] = (1.4, 1.4)\n",
    "\n",
    "    # Add labels: Repel texts from other text and points\n",
    "    rect = ax.add_patch(\n",
    "        Rectangle(\n",
    "            xy=(xmin, -abs(thresh)),\n",
    "            width=xmax - xmin,\n",
    "            height=2 * abs(thresh),\n",
    "            fill=False,\n",
    "            linewidth=0,\n",
    "        )\n",
    "    )\n",
    "\n",
    "    if adjust_labels_pgw:\n",
    "        adjust_text(\n",
    "            texts=texts,\n",
    "            add_objects=[rect],\n",
    "            ax=ax,\n",
    "            arrowprops=dict(arrowstyle=\"-\", color=\"k\", lw=0.5),\n",
    "            only_move={\"objects\": \"y\"},\n",
    "            **expand_kwargs,\n",
    "        )\n",
    "\n",
    "    return ax\n",
    "\n",
    "def global_clustering(data, threshold=0.3, xticklabels=True, yticklabels=True, figsize=(9,9)):\n",
    "    \n",
    "    # Retrieve clusters using fcluster \n",
    "    corr = data.corr()\n",
    "    corr.fillna(0,inplace=True)\n",
    "    dist = sch.distance.pdist(corr)\n",
    "    link = sch.linkage(dist, method='complete')\n",
    "    clst = pd.DataFrame(index=data.columns)\n",
    "    clst['cluster'] = sch.fcluster(link, threshold * dist.max(), 'distance')\n",
    "\n",
    "    # Get colors for each cluster\n",
    "    cm = plt.cm.get_cmap('tab20')\n",
    "    cluster_colors = dict(zip(clst.cluster.unique(), cm.colors))\n",
    "    clst['color'] = clst.cluster.map(cluster_colors)\n",
    "\n",
    "    print('Number of cluster: ', len(cluster_colors))\n",
    "    \n",
    "    legend_items = [patches.Patch(color=c, label=l) for l,c in cluster_colors.items()]\n",
    "    \n",
    "    sns.set(rc={'figure.facecolor':'white'})\n",
    "    \n",
    "    clst_map = sns.clustermap(data.corr(), \n",
    "                              figsize=figsize, \n",
    "                              row_linkage=link, \n",
    "                              col_linkage=link, \n",
    "                              col_colors=clst.color,\n",
    "                              yticklabels=yticklabels, \n",
    "                              xticklabels=xticklabels,\n",
    "                              vmin=-1, \n",
    "                              vmax=1)\n",
    "    \n",
    "    legend = clst_map.ax_heatmap.legend(loc='upper left', \n",
    "                                        bbox_to_anchor=(1.01,0.85), \n",
    "                                        handles=legend_items,\n",
    "                                        frameon=True)\n",
    "    \n",
    "    legend.set_title(title='Clusters',prop={'size':10})\n",
    "    \n",
    "    return clst['cluster']"
   ]
  },
  {
   "cell_type": "markdown",
   "metadata": {
    "tags": []
   },
   "source": [
    "# investgiate an iM"
   ]
  },
  {
   "cell_type": "code",
   "execution_count": 3,
   "metadata": {},
   "outputs": [
    {
     "data": {
      "text/html": [
       "<div>\n",
       "<style scoped>\n",
       "    .dataframe tbody tr th:only-of-type {\n",
       "        vertical-align: middle;\n",
       "    }\n",
       "\n",
       "    .dataframe tbody tr th {\n",
       "        vertical-align: top;\n",
       "    }\n",
       "\n",
       "    .dataframe thead th {\n",
       "        text-align: right;\n",
       "    }\n",
       "</style>\n",
       "<table border=\"1\" class=\"dataframe\">\n",
       "  <thead>\n",
       "    <tr style=\"text-align: right;\">\n",
       "      <th></th>\n",
       "      <th>category</th>\n",
       "      <th>regulator</th>\n",
       "      <th>pvalue</th>\n",
       "      <th>qvalue</th>\n",
       "      <th>precision</th>\n",
       "      <th>recall</th>\n",
       "      <th>f1score</th>\n",
       "      <th>TP</th>\n",
       "      <th>regulon_size</th>\n",
       "      <th>imodulon_size</th>\n",
       "      <th>n_regs</th>\n",
       "      <th>single_gene</th>\n",
       "      <th>percent_anaero_essential</th>\n",
       "      <th>percent_aero_essential</th>\n",
       "      <th>explained_variance</th>\n",
       "    </tr>\n",
       "  </thead>\n",
       "  <tbody>\n",
       "    <tr>\n",
       "      <th>nitrogen_fixation</th>\n",
       "      <td>metabolism</td>\n",
       "      <td>NaN</td>\n",
       "      <td>NaN</td>\n",
       "      <td>NaN</td>\n",
       "      <td>NaN</td>\n",
       "      <td>NaN</td>\n",
       "      <td>NaN</td>\n",
       "      <td>NaN</td>\n",
       "      <td>NaN</td>\n",
       "      <td>12</td>\n",
       "      <td>NaN</td>\n",
       "      <td>NaN</td>\n",
       "      <td>0.000000</td>\n",
       "      <td>0.000000</td>\n",
       "      <td>0.018630</td>\n",
       "    </tr>\n",
       "    <tr>\n",
       "      <th>SG_1</th>\n",
       "      <td>single gene</td>\n",
       "      <td>NaN</td>\n",
       "      <td>NaN</td>\n",
       "      <td>NaN</td>\n",
       "      <td>NaN</td>\n",
       "      <td>NaN</td>\n",
       "      <td>NaN</td>\n",
       "      <td>NaN</td>\n",
       "      <td>NaN</td>\n",
       "      <td>1</td>\n",
       "      <td>NaN</td>\n",
       "      <td>True</td>\n",
       "      <td>0.000000</td>\n",
       "      <td>0.000000</td>\n",
       "      <td>0.001166</td>\n",
       "    </tr>\n",
       "    <tr>\n",
       "      <th>siderophore_receptor</th>\n",
       "      <td>transport</td>\n",
       "      <td>NaN</td>\n",
       "      <td>NaN</td>\n",
       "      <td>NaN</td>\n",
       "      <td>NaN</td>\n",
       "      <td>NaN</td>\n",
       "      <td>NaN</td>\n",
       "      <td>NaN</td>\n",
       "      <td>NaN</td>\n",
       "      <td>9</td>\n",
       "      <td>NaN</td>\n",
       "      <td>NaN</td>\n",
       "      <td>0.000000</td>\n",
       "      <td>0.222222</td>\n",
       "      <td>0.015617</td>\n",
       "    </tr>\n",
       "    <tr>\n",
       "      <th>motility</th>\n",
       "      <td>structural</td>\n",
       "      <td>NaN</td>\n",
       "      <td>NaN</td>\n",
       "      <td>NaN</td>\n",
       "      <td>NaN</td>\n",
       "      <td>NaN</td>\n",
       "      <td>NaN</td>\n",
       "      <td>NaN</td>\n",
       "      <td>NaN</td>\n",
       "      <td>19</td>\n",
       "      <td>NaN</td>\n",
       "      <td>NaN</td>\n",
       "      <td>0.000000</td>\n",
       "      <td>0.000000</td>\n",
       "      <td>0.013539</td>\n",
       "    </tr>\n",
       "    <tr>\n",
       "      <th>SG_2</th>\n",
       "      <td>single gene</td>\n",
       "      <td>NaN</td>\n",
       "      <td>NaN</td>\n",
       "      <td>NaN</td>\n",
       "      <td>NaN</td>\n",
       "      <td>NaN</td>\n",
       "      <td>NaN</td>\n",
       "      <td>NaN</td>\n",
       "      <td>NaN</td>\n",
       "      <td>1</td>\n",
       "      <td>NaN</td>\n",
       "      <td>True</td>\n",
       "      <td>0.000000</td>\n",
       "      <td>0.000000</td>\n",
       "      <td>0.005724</td>\n",
       "    </tr>\n",
       "    <tr>\n",
       "      <th>...</th>\n",
       "      <td>...</td>\n",
       "      <td>...</td>\n",
       "      <td>...</td>\n",
       "      <td>...</td>\n",
       "      <td>...</td>\n",
       "      <td>...</td>\n",
       "      <td>...</td>\n",
       "      <td>...</td>\n",
       "      <td>...</td>\n",
       "      <td>...</td>\n",
       "      <td>...</td>\n",
       "      <td>...</td>\n",
       "      <td>...</td>\n",
       "      <td>...</td>\n",
       "      <td>...</td>\n",
       "    </tr>\n",
       "    <tr>\n",
       "      <th>plasmid_unknown_1</th>\n",
       "      <td>uncharacterized</td>\n",
       "      <td>NaN</td>\n",
       "      <td>NaN</td>\n",
       "      <td>NaN</td>\n",
       "      <td>NaN</td>\n",
       "      <td>NaN</td>\n",
       "      <td>NaN</td>\n",
       "      <td>NaN</td>\n",
       "      <td>NaN</td>\n",
       "      <td>57</td>\n",
       "      <td>NaN</td>\n",
       "      <td>NaN</td>\n",
       "      <td>0.070175</td>\n",
       "      <td>0.035088</td>\n",
       "      <td>0.011822</td>\n",
       "    </tr>\n",
       "    <tr>\n",
       "      <th>SG_19</th>\n",
       "      <td>single gene</td>\n",
       "      <td>NaN</td>\n",
       "      <td>NaN</td>\n",
       "      <td>NaN</td>\n",
       "      <td>NaN</td>\n",
       "      <td>NaN</td>\n",
       "      <td>NaN</td>\n",
       "      <td>NaN</td>\n",
       "      <td>NaN</td>\n",
       "      <td>1</td>\n",
       "      <td>NaN</td>\n",
       "      <td>True</td>\n",
       "      <td>0.000000</td>\n",
       "      <td>0.000000</td>\n",
       "      <td>0.002873</td>\n",
       "    </tr>\n",
       "    <tr>\n",
       "      <th>SG_20</th>\n",
       "      <td>single gene</td>\n",
       "      <td>NaN</td>\n",
       "      <td>NaN</td>\n",
       "      <td>NaN</td>\n",
       "      <td>NaN</td>\n",
       "      <td>NaN</td>\n",
       "      <td>NaN</td>\n",
       "      <td>NaN</td>\n",
       "      <td>NaN</td>\n",
       "      <td>1</td>\n",
       "      <td>NaN</td>\n",
       "      <td>True</td>\n",
       "      <td>0.000000</td>\n",
       "      <td>0.000000</td>\n",
       "      <td>0.001293</td>\n",
       "    </tr>\n",
       "    <tr>\n",
       "      <th>unknown_8</th>\n",
       "      <td>uncharacterized</td>\n",
       "      <td>NaN</td>\n",
       "      <td>NaN</td>\n",
       "      <td>NaN</td>\n",
       "      <td>NaN</td>\n",
       "      <td>NaN</td>\n",
       "      <td>NaN</td>\n",
       "      <td>NaN</td>\n",
       "      <td>NaN</td>\n",
       "      <td>26</td>\n",
       "      <td>NaN</td>\n",
       "      <td>NaN</td>\n",
       "      <td>0.076923</td>\n",
       "      <td>0.115385</td>\n",
       "      <td>0.006470</td>\n",
       "    </tr>\n",
       "    <tr>\n",
       "      <th>noise_5</th>\n",
       "      <td>noise</td>\n",
       "      <td>NaN</td>\n",
       "      <td>NaN</td>\n",
       "      <td>NaN</td>\n",
       "      <td>NaN</td>\n",
       "      <td>NaN</td>\n",
       "      <td>NaN</td>\n",
       "      <td>NaN</td>\n",
       "      <td>NaN</td>\n",
       "      <td>156</td>\n",
       "      <td>NaN</td>\n",
       "      <td>True</td>\n",
       "      <td>0.141026</td>\n",
       "      <td>0.134615</td>\n",
       "      <td>0.027218</td>\n",
       "    </tr>\n",
       "  </tbody>\n",
       "</table>\n",
       "<p>63 rows × 15 columns</p>\n",
       "</div>"
      ],
      "text/plain": [
       "                             category regulator  pvalue  qvalue  precision  \\\n",
       "nitrogen_fixation          metabolism       NaN     NaN     NaN        NaN   \n",
       "SG_1                      single gene       NaN     NaN     NaN        NaN   \n",
       "siderophore_receptor        transport       NaN     NaN     NaN        NaN   \n",
       "motility                   structural       NaN     NaN     NaN        NaN   \n",
       "SG_2                      single gene       NaN     NaN     NaN        NaN   \n",
       "...                               ...       ...     ...     ...        ...   \n",
       "plasmid_unknown_1     uncharacterized       NaN     NaN     NaN        NaN   \n",
       "SG_19                     single gene       NaN     NaN     NaN        NaN   \n",
       "SG_20                     single gene       NaN     NaN     NaN        NaN   \n",
       "unknown_8             uncharacterized       NaN     NaN     NaN        NaN   \n",
       "noise_5                         noise       NaN     NaN     NaN        NaN   \n",
       "\n",
       "                      recall  f1score  TP  regulon_size  imodulon_size  \\\n",
       "nitrogen_fixation        NaN      NaN NaN           NaN             12   \n",
       "SG_1                     NaN      NaN NaN           NaN              1   \n",
       "siderophore_receptor     NaN      NaN NaN           NaN              9   \n",
       "motility                 NaN      NaN NaN           NaN             19   \n",
       "SG_2                     NaN      NaN NaN           NaN              1   \n",
       "...                      ...      ...  ..           ...            ...   \n",
       "plasmid_unknown_1        NaN      NaN NaN           NaN             57   \n",
       "SG_19                    NaN      NaN NaN           NaN              1   \n",
       "SG_20                    NaN      NaN NaN           NaN              1   \n",
       "unknown_8                NaN      NaN NaN           NaN             26   \n",
       "noise_5                  NaN      NaN NaN           NaN            156   \n",
       "\n",
       "                      n_regs single_gene  percent_anaero_essential  \\\n",
       "nitrogen_fixation        NaN         NaN                  0.000000   \n",
       "SG_1                     NaN        True                  0.000000   \n",
       "siderophore_receptor     NaN         NaN                  0.000000   \n",
       "motility                 NaN         NaN                  0.000000   \n",
       "SG_2                     NaN        True                  0.000000   \n",
       "...                      ...         ...                       ...   \n",
       "plasmid_unknown_1        NaN         NaN                  0.070175   \n",
       "SG_19                    NaN        True                  0.000000   \n",
       "SG_20                    NaN        True                  0.000000   \n",
       "unknown_8                NaN         NaN                  0.076923   \n",
       "noise_5                  NaN        True                  0.141026   \n",
       "\n",
       "                      percent_aero_essential  explained_variance  \n",
       "nitrogen_fixation                   0.000000            0.018630  \n",
       "SG_1                                0.000000            0.001166  \n",
       "siderophore_receptor                0.222222            0.015617  \n",
       "motility                            0.000000            0.013539  \n",
       "SG_2                                0.000000            0.005724  \n",
       "...                                      ...                 ...  \n",
       "plasmid_unknown_1                   0.035088            0.011822  \n",
       "SG_19                               0.000000            0.002873  \n",
       "SG_20                               0.000000            0.001293  \n",
       "unknown_8                           0.115385            0.006470  \n",
       "noise_5                             0.134615            0.027218  \n",
       "\n",
       "[63 rows x 15 columns]"
      ]
     },
     "execution_count": 3,
     "metadata": {},
     "output_type": "execute_result"
    }
   ],
   "source": [
    "ica_data.imodulon_table"
   ]
  },
  {
   "cell_type": "code",
   "execution_count": 2,
   "metadata": {},
   "outputs": [
    {
     "data": {
      "text/plain": [
       "np.float64(0.6348356852077545)"
      ]
     },
     "execution_count": 2,
     "metadata": {},
     "output_type": "execute_result"
    }
   ],
   "source": [
    "ica_data.imodulon_table.explained_variance.sum()"
   ]
  },
  {
   "cell_type": "code",
   "execution_count": 116,
   "metadata": {
    "tags": []
   },
   "outputs": [],
   "source": [
    "iM_ct = 'unknown_8'"
   ]
  },
  {
   "cell_type": "code",
   "execution_count": 117,
   "metadata": {
    "tags": []
   },
   "outputs": [
    {
     "data": {
      "text/html": [
       "<div>\n",
       "<style scoped>\n",
       "    .dataframe tbody tr th:only-of-type {\n",
       "        vertical-align: middle;\n",
       "    }\n",
       "\n",
       "    .dataframe tbody tr th {\n",
       "        vertical-align: top;\n",
       "    }\n",
       "\n",
       "    .dataframe thead th {\n",
       "        text-align: right;\n",
       "    }\n",
       "</style>\n",
       "<table border=\"1\" class=\"dataframe\">\n",
       "  <thead>\n",
       "    <tr style=\"text-align: right;\">\n",
       "      <th></th>\n",
       "      <th>gene_name</th>\n",
       "      <th>gene_weight</th>\n",
       "      <th>gene_product</th>\n",
       "      <th>COG</th>\n",
       "      <th>regulator</th>\n",
       "      <th>FIMO_regulators</th>\n",
       "      <th>EC_number</th>\n",
       "      <th>aerobic_essential</th>\n",
       "      <th>anaerobic_essential</th>\n",
       "    </tr>\n",
       "  </thead>\n",
       "  <tbody>\n",
       "    <tr>\n",
       "      <th>ZMO1_ZMO1862</th>\n",
       "      <td>ZMO1_ZMO1862</td>\n",
       "      <td>0.271562</td>\n",
       "      <td>HAD-superfamily hydrolase subfamily IA</td>\n",
       "      <td>No COG annotation</td>\n",
       "      <td>ZMO1697,ZMO1787</td>\n",
       "      <td>[]</td>\n",
       "      <td>NaN</td>\n",
       "      <td>0.000000</td>\n",
       "      <td>0.000000</td>\n",
       "    </tr>\n",
       "    <tr>\n",
       "      <th>ZMO1_ZMO1863</th>\n",
       "      <td>ZMO1_ZMO1863</td>\n",
       "      <td>0.146577</td>\n",
       "      <td>phosphatase</td>\n",
       "      <td>Function unknown</td>\n",
       "      <td>ZMO1787</td>\n",
       "      <td>[]</td>\n",
       "      <td>NaN</td>\n",
       "      <td>0.000000</td>\n",
       "      <td>0.000000</td>\n",
       "    </tr>\n",
       "    <tr>\n",
       "      <th>ZMO1_ZMO1857</th>\n",
       "      <td>ZMO1_ZMO1857</td>\n",
       "      <td>0.143425</td>\n",
       "      <td>LysR family transcriptional regulator</td>\n",
       "      <td>Transcription</td>\n",
       "      <td>ZMO1697,ZMO1857</td>\n",
       "      <td>[]</td>\n",
       "      <td>NaN</td>\n",
       "      <td>0.000000</td>\n",
       "      <td>0.000000</td>\n",
       "    </tr>\n",
       "    <tr>\n",
       "      <th>ZMO1_ZMO1864</th>\n",
       "      <td>ZMO1_ZMO1864</td>\n",
       "      <td>0.141752</td>\n",
       "      <td>transposase IS5 family protein</td>\n",
       "      <td>Replication, recombination and repair</td>\n",
       "      <td>ZMO0373,ZMO0373,ZMO1857</td>\n",
       "      <td>[]</td>\n",
       "      <td>NaN</td>\n",
       "      <td>0.000000</td>\n",
       "      <td>0.000000</td>\n",
       "    </tr>\n",
       "    <tr>\n",
       "      <th>ZMO1_ZMO1011</th>\n",
       "      <td>yacG</td>\n",
       "      <td>0.127645</td>\n",
       "      <td>YacG/DUF329 family protein</td>\n",
       "      <td>Function unknown</td>\n",
       "      <td>NaN</td>\n",
       "      <td>[]</td>\n",
       "      <td>NaN</td>\n",
       "      <td>0.000000</td>\n",
       "      <td>0.000000</td>\n",
       "    </tr>\n",
       "    <tr>\n",
       "      <th>ZMO1_ZMO1579</th>\n",
       "      <td>ZMO1_ZMO1579</td>\n",
       "      <td>0.121673</td>\n",
       "      <td>alpha/beta hydrolase</td>\n",
       "      <td>Function unknown</td>\n",
       "      <td>ZMO1787</td>\n",
       "      <td>['CosR_Campylobacter_jejuni', 'NikR_Helicobact...</td>\n",
       "      <td>NaN</td>\n",
       "      <td>0.000000</td>\n",
       "      <td>0.000000</td>\n",
       "    </tr>\n",
       "    <tr>\n",
       "      <th>ZMO1_ZMO1577</th>\n",
       "      <td>ZMO1_ZMO1577</td>\n",
       "      <td>0.115024</td>\n",
       "      <td>putative arabinose efflux permease MFS family ...</td>\n",
       "      <td>Amino acid transport and metabolism</td>\n",
       "      <td>NaN</td>\n",
       "      <td>[]</td>\n",
       "      <td>NaN</td>\n",
       "      <td>0.000000</td>\n",
       "      <td>0.000000</td>\n",
       "    </tr>\n",
       "    <tr>\n",
       "      <th>ZMO1_ZMO1578</th>\n",
       "      <td>ZMO1_ZMO1578</td>\n",
       "      <td>0.110080</td>\n",
       "      <td>short-chain dehydrogenase/reductase SDR</td>\n",
       "      <td>Lipid transport and metabolism</td>\n",
       "      <td>NaN</td>\n",
       "      <td>['CosR_Campylobacter_jejuni']</td>\n",
       "      <td>NaN</td>\n",
       "      <td>0.000000</td>\n",
       "      <td>0.000000</td>\n",
       "    </tr>\n",
       "    <tr>\n",
       "      <th>ZMO1_ZMOp36x011</th>\n",
       "      <td>ZMO1_ZMOp36x011</td>\n",
       "      <td>-0.091191</td>\n",
       "      <td>tail sheath protein</td>\n",
       "      <td>Function unknown</td>\n",
       "      <td>NaN</td>\n",
       "      <td>[]</td>\n",
       "      <td>NaN</td>\n",
       "      <td>0.000000</td>\n",
       "      <td>0.000000</td>\n",
       "    </tr>\n",
       "    <tr>\n",
       "      <th>ZMO1_ZMO0137</th>\n",
       "      <td>ZMO1_ZMO0137</td>\n",
       "      <td>0.087916</td>\n",
       "      <td>Sel1 domain protein repeat-containing protein</td>\n",
       "      <td>No COG annotation</td>\n",
       "      <td>ZMO0199,ZMO0774,ZMO0781,ZMO0940,ZMO1121,ZMO120...</td>\n",
       "      <td>['Cap37_Clostridium_acetobutylicum', 'CosR_Cam...</td>\n",
       "      <td>NaN</td>\n",
       "      <td>0.000000</td>\n",
       "      <td>0.000000</td>\n",
       "    </tr>\n",
       "    <tr>\n",
       "      <th>ZMO1_ZMO1545</th>\n",
       "      <td>ZMO1_ZMO1545</td>\n",
       "      <td>0.087515</td>\n",
       "      <td>heat shock protein DnaJ domain protein</td>\n",
       "      <td>Post-translational modification, protein turno...</td>\n",
       "      <td>NaN</td>\n",
       "      <td>['XylR_Thermotoga_maritima']</td>\n",
       "      <td>NaN</td>\n",
       "      <td>0.000000</td>\n",
       "      <td>0.000000</td>\n",
       "    </tr>\n",
       "    <tr>\n",
       "      <th>ZMO1_ZMO1855</th>\n",
       "      <td>ZMO1_ZMO1855</td>\n",
       "      <td>0.086112</td>\n",
       "      <td>glutamine amidotransferase class-I</td>\n",
       "      <td>Nucleotide transport and metabolism</td>\n",
       "      <td>NaN</td>\n",
       "      <td>['NikR_Helicobacter_pylori']</td>\n",
       "      <td>6.3.5.2</td>\n",
       "      <td>0.000000</td>\n",
       "      <td>0.000000</td>\n",
       "    </tr>\n",
       "    <tr>\n",
       "      <th>ZMO1_ZMO0750</th>\n",
       "      <td>ZMO1_ZMO0750</td>\n",
       "      <td>0.082070</td>\n",
       "      <td>23S rRNA pseudouridine synthase D RluD</td>\n",
       "      <td>Translation, ribosomal structure and biogenesis</td>\n",
       "      <td>NaN</td>\n",
       "      <td>['NikR_Helicobacter_pylori']</td>\n",
       "      <td>5.4.99.23</td>\n",
       "      <td>-1.046094</td>\n",
       "      <td>0.000000</td>\n",
       "    </tr>\n",
       "    <tr>\n",
       "      <th>ZMO1_ZMO1377</th>\n",
       "      <td>ZMO1_ZMO1377</td>\n",
       "      <td>0.077446</td>\n",
       "      <td>uncharacterized protein</td>\n",
       "      <td>Function unknown</td>\n",
       "      <td>NaN</td>\n",
       "      <td>['MogR_Listeria_monocytogenes', 'RofA_Streptoc...</td>\n",
       "      <td>NaN</td>\n",
       "      <td>0.000000</td>\n",
       "      <td>0.000000</td>\n",
       "    </tr>\n",
       "    <tr>\n",
       "      <th>ZMO1_ZMO1903</th>\n",
       "      <td>ZMO1_ZMO1903</td>\n",
       "      <td>0.072846</td>\n",
       "      <td>porphobilinogen deaminase</td>\n",
       "      <td>Coenzyme transport and metabolism</td>\n",
       "      <td>NaN</td>\n",
       "      <td>[]</td>\n",
       "      <td>2.5.1.61</td>\n",
       "      <td>-1.296596</td>\n",
       "      <td>-1.146341</td>\n",
       "    </tr>\n",
       "    <tr>\n",
       "      <th>ZMO1_ZMO1761</th>\n",
       "      <td>ZMO1_ZMO1761</td>\n",
       "      <td>0.072242</td>\n",
       "      <td>ribosomal RNA small subunit methyltransferase ...</td>\n",
       "      <td>Coenzyme transport and metabolism</td>\n",
       "      <td>NaN</td>\n",
       "      <td>[]</td>\n",
       "      <td>2.1.1.198</td>\n",
       "      <td>0.000000</td>\n",
       "      <td>0.000000</td>\n",
       "    </tr>\n",
       "    <tr>\n",
       "      <th>ZMO1_ZMO1215</th>\n",
       "      <td>ZMO1_ZMO1215</td>\n",
       "      <td>0.071411</td>\n",
       "      <td>uncharacterized protein</td>\n",
       "      <td>No COG annotation</td>\n",
       "      <td>ZMO0781</td>\n",
       "      <td>[]</td>\n",
       "      <td>NaN</td>\n",
       "      <td>0.000000</td>\n",
       "      <td>0.000000</td>\n",
       "    </tr>\n",
       "    <tr>\n",
       "      <th>ZMO1_ZMO1424</th>\n",
       "      <td>ZMO1_ZMO1424</td>\n",
       "      <td>-0.068942</td>\n",
       "      <td>ATP-dependent chaperone ClpB</td>\n",
       "      <td>Post-translational modification, protein turno...</td>\n",
       "      <td>NaN</td>\n",
       "      <td>['CosR_Campylobacter_jejuni', 'MogR_Listeria_m...</td>\n",
       "      <td>NaN</td>\n",
       "      <td>0.000000</td>\n",
       "      <td>0.000000</td>\n",
       "    </tr>\n",
       "    <tr>\n",
       "      <th>ZMO1_ZMO1506</th>\n",
       "      <td>ZMO1_ZMO1506</td>\n",
       "      <td>0.068410</td>\n",
       "      <td>uncharacterized protein</td>\n",
       "      <td>No COG annotation</td>\n",
       "      <td>ZMO0199</td>\n",
       "      <td>['MogR_Listeria_monocytogenes']</td>\n",
       "      <td>NaN</td>\n",
       "      <td>0.000000</td>\n",
       "      <td>0.000000</td>\n",
       "    </tr>\n",
       "    <tr>\n",
       "      <th>ZMO1_ZMOp32x007</th>\n",
       "      <td>ZMO1_ZMOp32x007</td>\n",
       "      <td>0.065361</td>\n",
       "      <td>Ca2+-dependent phosphoinositide phospholipase C</td>\n",
       "      <td>Function unknown</td>\n",
       "      <td>ZMO0774,ZMO0781,ZMO0940,ZMO1206,ZMO1412,ZMO1793</td>\n",
       "      <td>['CosR_Campylobacter_jejuni', 'MogR_Listeria_m...</td>\n",
       "      <td>NaN</td>\n",
       "      <td>0.000000</td>\n",
       "      <td>0.000000</td>\n",
       "    </tr>\n",
       "    <tr>\n",
       "      <th>ZMO1_ZMO2016</th>\n",
       "      <td>ZMO1_ZMO2016</td>\n",
       "      <td>0.064923</td>\n",
       "      <td>hypothetical protein</td>\n",
       "      <td>No COG annotation</td>\n",
       "      <td>ZMO0373,ZMO0774,ZMO0781,ZMO0781,ZMO0940,ZMO112...</td>\n",
       "      <td>['NikR_Helicobacter_pylori']</td>\n",
       "      <td>NaN</td>\n",
       "      <td>0.000000</td>\n",
       "      <td>0.000000</td>\n",
       "    </tr>\n",
       "    <tr>\n",
       "      <th>ZMO1_ZMO1679</th>\n",
       "      <td>ZMO1_ZMO1679</td>\n",
       "      <td>0.064818</td>\n",
       "      <td>YgdH family protein</td>\n",
       "      <td>Function unknown</td>\n",
       "      <td>ZMO0940,ZMO1697,ZMO1857</td>\n",
       "      <td>['CosR_Campylobacter_jejuni']</td>\n",
       "      <td>3.2.2.10</td>\n",
       "      <td>0.000000</td>\n",
       "      <td>0.000000</td>\n",
       "    </tr>\n",
       "    <tr>\n",
       "      <th>ZMO1_ZMO0733</th>\n",
       "      <td>ZMO1_ZMO0733</td>\n",
       "      <td>0.064485</td>\n",
       "      <td>GCN5-related N-acetyltransferase</td>\n",
       "      <td>Transcription</td>\n",
       "      <td>ZMO0100,ZMO0373</td>\n",
       "      <td>['MogR_Listeria_monocytogenes', 'NikR_Helicoba...</td>\n",
       "      <td>NaN</td>\n",
       "      <td>0.000000</td>\n",
       "      <td>0.000000</td>\n",
       "    </tr>\n",
       "    <tr>\n",
       "      <th>ZMO1_ZMO1054</th>\n",
       "      <td>ZMO1_ZMO1054</td>\n",
       "      <td>0.064357</td>\n",
       "      <td>DNA topoisomerase IV A subunit</td>\n",
       "      <td>Replication, recombination and repair</td>\n",
       "      <td>NaN</td>\n",
       "      <td>[]</td>\n",
       "      <td>NaN</td>\n",
       "      <td>-2.122815</td>\n",
       "      <td>-2.473697</td>\n",
       "    </tr>\n",
       "    <tr>\n",
       "      <th>ZMO1_ZMO1449</th>\n",
       "      <td>ZMO1_ZMO1449</td>\n",
       "      <td>-0.064182</td>\n",
       "      <td>mannitol-1-phosphate dehydrogenase</td>\n",
       "      <td>Carbohydrate transport and metabolism</td>\n",
       "      <td>NaN</td>\n",
       "      <td>['CosR_Campylobacter_jejuni', 'MogR_Listeria_m...</td>\n",
       "      <td>1.1.1.57,1.1.1.67</td>\n",
       "      <td>0.000000</td>\n",
       "      <td>0.000000</td>\n",
       "    </tr>\n",
       "    <tr>\n",
       "      <th>ZMO1_ZMOp39x003</th>\n",
       "      <td>ZMO1_ZMOp39x003</td>\n",
       "      <td>-0.063483</td>\n",
       "      <td>hypothetical protein</td>\n",
       "      <td>No COG annotation</td>\n",
       "      <td>ZMO1061,ZMO1787</td>\n",
       "      <td>[]</td>\n",
       "      <td>NaN</td>\n",
       "      <td>0.000000</td>\n",
       "      <td>0.000000</td>\n",
       "    </tr>\n",
       "  </tbody>\n",
       "</table>\n",
       "</div>"
      ],
      "text/plain": [
       "                       gene_name  gene_weight  \\\n",
       "ZMO1_ZMO1862        ZMO1_ZMO1862     0.271562   \n",
       "ZMO1_ZMO1863        ZMO1_ZMO1863     0.146577   \n",
       "ZMO1_ZMO1857        ZMO1_ZMO1857     0.143425   \n",
       "ZMO1_ZMO1864        ZMO1_ZMO1864     0.141752   \n",
       "ZMO1_ZMO1011                yacG     0.127645   \n",
       "ZMO1_ZMO1579        ZMO1_ZMO1579     0.121673   \n",
       "ZMO1_ZMO1577        ZMO1_ZMO1577     0.115024   \n",
       "ZMO1_ZMO1578        ZMO1_ZMO1578     0.110080   \n",
       "ZMO1_ZMOp36x011  ZMO1_ZMOp36x011    -0.091191   \n",
       "ZMO1_ZMO0137        ZMO1_ZMO0137     0.087916   \n",
       "ZMO1_ZMO1545        ZMO1_ZMO1545     0.087515   \n",
       "ZMO1_ZMO1855        ZMO1_ZMO1855     0.086112   \n",
       "ZMO1_ZMO0750        ZMO1_ZMO0750     0.082070   \n",
       "ZMO1_ZMO1377        ZMO1_ZMO1377     0.077446   \n",
       "ZMO1_ZMO1903        ZMO1_ZMO1903     0.072846   \n",
       "ZMO1_ZMO1761        ZMO1_ZMO1761     0.072242   \n",
       "ZMO1_ZMO1215        ZMO1_ZMO1215     0.071411   \n",
       "ZMO1_ZMO1424        ZMO1_ZMO1424    -0.068942   \n",
       "ZMO1_ZMO1506        ZMO1_ZMO1506     0.068410   \n",
       "ZMO1_ZMOp32x007  ZMO1_ZMOp32x007     0.065361   \n",
       "ZMO1_ZMO2016        ZMO1_ZMO2016     0.064923   \n",
       "ZMO1_ZMO1679        ZMO1_ZMO1679     0.064818   \n",
       "ZMO1_ZMO0733        ZMO1_ZMO0733     0.064485   \n",
       "ZMO1_ZMO1054        ZMO1_ZMO1054     0.064357   \n",
       "ZMO1_ZMO1449        ZMO1_ZMO1449    -0.064182   \n",
       "ZMO1_ZMOp39x003  ZMO1_ZMOp39x003    -0.063483   \n",
       "\n",
       "                                                      gene_product  \\\n",
       "ZMO1_ZMO1862                HAD-superfamily hydrolase subfamily IA   \n",
       "ZMO1_ZMO1863                                           phosphatase   \n",
       "ZMO1_ZMO1857                 LysR family transcriptional regulator   \n",
       "ZMO1_ZMO1864                        transposase IS5 family protein   \n",
       "ZMO1_ZMO1011                            YacG/DUF329 family protein   \n",
       "ZMO1_ZMO1579                                  alpha/beta hydrolase   \n",
       "ZMO1_ZMO1577     putative arabinose efflux permease MFS family ...   \n",
       "ZMO1_ZMO1578               short-chain dehydrogenase/reductase SDR   \n",
       "ZMO1_ZMOp36x011                                tail sheath protein   \n",
       "ZMO1_ZMO0137         Sel1 domain protein repeat-containing protein   \n",
       "ZMO1_ZMO1545                heat shock protein DnaJ domain protein   \n",
       "ZMO1_ZMO1855                    glutamine amidotransferase class-I   \n",
       "ZMO1_ZMO0750                23S rRNA pseudouridine synthase D RluD   \n",
       "ZMO1_ZMO1377                               uncharacterized protein   \n",
       "ZMO1_ZMO1903                             porphobilinogen deaminase   \n",
       "ZMO1_ZMO1761     ribosomal RNA small subunit methyltransferase ...   \n",
       "ZMO1_ZMO1215                               uncharacterized protein   \n",
       "ZMO1_ZMO1424                          ATP-dependent chaperone ClpB   \n",
       "ZMO1_ZMO1506                               uncharacterized protein   \n",
       "ZMO1_ZMOp32x007    Ca2+-dependent phosphoinositide phospholipase C   \n",
       "ZMO1_ZMO2016                                  hypothetical protein   \n",
       "ZMO1_ZMO1679                                   YgdH family protein   \n",
       "ZMO1_ZMO0733                      GCN5-related N-acetyltransferase   \n",
       "ZMO1_ZMO1054                        DNA topoisomerase IV A subunit   \n",
       "ZMO1_ZMO1449                    mannitol-1-phosphate dehydrogenase   \n",
       "ZMO1_ZMOp39x003                               hypothetical protein   \n",
       "\n",
       "                                                               COG  \\\n",
       "ZMO1_ZMO1862                                     No COG annotation   \n",
       "ZMO1_ZMO1863                                      Function unknown   \n",
       "ZMO1_ZMO1857                                         Transcription   \n",
       "ZMO1_ZMO1864                 Replication, recombination and repair   \n",
       "ZMO1_ZMO1011                                      Function unknown   \n",
       "ZMO1_ZMO1579                                      Function unknown   \n",
       "ZMO1_ZMO1577                   Amino acid transport and metabolism   \n",
       "ZMO1_ZMO1578                        Lipid transport and metabolism   \n",
       "ZMO1_ZMOp36x011                                   Function unknown   \n",
       "ZMO1_ZMO0137                                     No COG annotation   \n",
       "ZMO1_ZMO1545     Post-translational modification, protein turno...   \n",
       "ZMO1_ZMO1855                   Nucleotide transport and metabolism   \n",
       "ZMO1_ZMO0750       Translation, ribosomal structure and biogenesis   \n",
       "ZMO1_ZMO1377                                      Function unknown   \n",
       "ZMO1_ZMO1903                     Coenzyme transport and metabolism   \n",
       "ZMO1_ZMO1761                     Coenzyme transport and metabolism   \n",
       "ZMO1_ZMO1215                                     No COG annotation   \n",
       "ZMO1_ZMO1424     Post-translational modification, protein turno...   \n",
       "ZMO1_ZMO1506                                     No COG annotation   \n",
       "ZMO1_ZMOp32x007                                   Function unknown   \n",
       "ZMO1_ZMO2016                                     No COG annotation   \n",
       "ZMO1_ZMO1679                                      Function unknown   \n",
       "ZMO1_ZMO0733                                         Transcription   \n",
       "ZMO1_ZMO1054                 Replication, recombination and repair   \n",
       "ZMO1_ZMO1449                 Carbohydrate transport and metabolism   \n",
       "ZMO1_ZMOp39x003                                  No COG annotation   \n",
       "\n",
       "                                                         regulator  \\\n",
       "ZMO1_ZMO1862                                       ZMO1697,ZMO1787   \n",
       "ZMO1_ZMO1863                                               ZMO1787   \n",
       "ZMO1_ZMO1857                                       ZMO1697,ZMO1857   \n",
       "ZMO1_ZMO1864                               ZMO0373,ZMO0373,ZMO1857   \n",
       "ZMO1_ZMO1011                                                   NaN   \n",
       "ZMO1_ZMO1579                                               ZMO1787   \n",
       "ZMO1_ZMO1577                                                   NaN   \n",
       "ZMO1_ZMO1578                                                   NaN   \n",
       "ZMO1_ZMOp36x011                                                NaN   \n",
       "ZMO1_ZMO0137     ZMO0199,ZMO0774,ZMO0781,ZMO0940,ZMO1121,ZMO120...   \n",
       "ZMO1_ZMO1545                                                   NaN   \n",
       "ZMO1_ZMO1855                                                   NaN   \n",
       "ZMO1_ZMO0750                                                   NaN   \n",
       "ZMO1_ZMO1377                                                   NaN   \n",
       "ZMO1_ZMO1903                                                   NaN   \n",
       "ZMO1_ZMO1761                                                   NaN   \n",
       "ZMO1_ZMO1215                                               ZMO0781   \n",
       "ZMO1_ZMO1424                                                   NaN   \n",
       "ZMO1_ZMO1506                                               ZMO0199   \n",
       "ZMO1_ZMOp32x007    ZMO0774,ZMO0781,ZMO0940,ZMO1206,ZMO1412,ZMO1793   \n",
       "ZMO1_ZMO2016     ZMO0373,ZMO0774,ZMO0781,ZMO0781,ZMO0940,ZMO112...   \n",
       "ZMO1_ZMO1679                               ZMO0940,ZMO1697,ZMO1857   \n",
       "ZMO1_ZMO0733                                       ZMO0100,ZMO0373   \n",
       "ZMO1_ZMO1054                                                   NaN   \n",
       "ZMO1_ZMO1449                                                   NaN   \n",
       "ZMO1_ZMOp39x003                                    ZMO1061,ZMO1787   \n",
       "\n",
       "                                                   FIMO_regulators  \\\n",
       "ZMO1_ZMO1862                                                    []   \n",
       "ZMO1_ZMO1863                                                    []   \n",
       "ZMO1_ZMO1857                                                    []   \n",
       "ZMO1_ZMO1864                                                    []   \n",
       "ZMO1_ZMO1011                                                    []   \n",
       "ZMO1_ZMO1579     ['CosR_Campylobacter_jejuni', 'NikR_Helicobact...   \n",
       "ZMO1_ZMO1577                                                    []   \n",
       "ZMO1_ZMO1578                         ['CosR_Campylobacter_jejuni']   \n",
       "ZMO1_ZMOp36x011                                                 []   \n",
       "ZMO1_ZMO0137     ['Cap37_Clostridium_acetobutylicum', 'CosR_Cam...   \n",
       "ZMO1_ZMO1545                          ['XylR_Thermotoga_maritima']   \n",
       "ZMO1_ZMO1855                          ['NikR_Helicobacter_pylori']   \n",
       "ZMO1_ZMO0750                          ['NikR_Helicobacter_pylori']   \n",
       "ZMO1_ZMO1377     ['MogR_Listeria_monocytogenes', 'RofA_Streptoc...   \n",
       "ZMO1_ZMO1903                                                    []   \n",
       "ZMO1_ZMO1761                                                    []   \n",
       "ZMO1_ZMO1215                                                    []   \n",
       "ZMO1_ZMO1424     ['CosR_Campylobacter_jejuni', 'MogR_Listeria_m...   \n",
       "ZMO1_ZMO1506                       ['MogR_Listeria_monocytogenes']   \n",
       "ZMO1_ZMOp32x007  ['CosR_Campylobacter_jejuni', 'MogR_Listeria_m...   \n",
       "ZMO1_ZMO2016                          ['NikR_Helicobacter_pylori']   \n",
       "ZMO1_ZMO1679                         ['CosR_Campylobacter_jejuni']   \n",
       "ZMO1_ZMO0733     ['MogR_Listeria_monocytogenes', 'NikR_Helicoba...   \n",
       "ZMO1_ZMO1054                                                    []   \n",
       "ZMO1_ZMO1449     ['CosR_Campylobacter_jejuni', 'MogR_Listeria_m...   \n",
       "ZMO1_ZMOp39x003                                                 []   \n",
       "\n",
       "                         EC_number  aerobic_essential  anaerobic_essential  \n",
       "ZMO1_ZMO1862                   NaN           0.000000             0.000000  \n",
       "ZMO1_ZMO1863                   NaN           0.000000             0.000000  \n",
       "ZMO1_ZMO1857                   NaN           0.000000             0.000000  \n",
       "ZMO1_ZMO1864                   NaN           0.000000             0.000000  \n",
       "ZMO1_ZMO1011                   NaN           0.000000             0.000000  \n",
       "ZMO1_ZMO1579                   NaN           0.000000             0.000000  \n",
       "ZMO1_ZMO1577                   NaN           0.000000             0.000000  \n",
       "ZMO1_ZMO1578                   NaN           0.000000             0.000000  \n",
       "ZMO1_ZMOp36x011                NaN           0.000000             0.000000  \n",
       "ZMO1_ZMO0137                   NaN           0.000000             0.000000  \n",
       "ZMO1_ZMO1545                   NaN           0.000000             0.000000  \n",
       "ZMO1_ZMO1855               6.3.5.2           0.000000             0.000000  \n",
       "ZMO1_ZMO0750             5.4.99.23          -1.046094             0.000000  \n",
       "ZMO1_ZMO1377                   NaN           0.000000             0.000000  \n",
       "ZMO1_ZMO1903              2.5.1.61          -1.296596            -1.146341  \n",
       "ZMO1_ZMO1761             2.1.1.198           0.000000             0.000000  \n",
       "ZMO1_ZMO1215                   NaN           0.000000             0.000000  \n",
       "ZMO1_ZMO1424                   NaN           0.000000             0.000000  \n",
       "ZMO1_ZMO1506                   NaN           0.000000             0.000000  \n",
       "ZMO1_ZMOp32x007                NaN           0.000000             0.000000  \n",
       "ZMO1_ZMO2016                   NaN           0.000000             0.000000  \n",
       "ZMO1_ZMO1679              3.2.2.10           0.000000             0.000000  \n",
       "ZMO1_ZMO0733                   NaN           0.000000             0.000000  \n",
       "ZMO1_ZMO1054                   NaN          -2.122815            -2.473697  \n",
       "ZMO1_ZMO1449     1.1.1.57,1.1.1.67           0.000000             0.000000  \n",
       "ZMO1_ZMOp39x003                NaN           0.000000             0.000000  "
      ]
     },
     "execution_count": 117,
     "metadata": {},
     "output_type": "execute_result"
    }
   ],
   "source": [
    "# show genes\n",
    "pd.set_option('display.max_rows', 500)\n",
    "pd.set_option('display.max_columns', 500)\n",
    "impt_cols = ['gene_name', 'gene_weight', 'gene_product', 'COG', 'regulator', 'FIMO_regulators', 'EC_number', 'aerobic_essential', 'anaerobic_essential']\n",
    "df = ica_data.view_imodulon(iM_ct).sort_values(by = 'gene_weight', ascending = False, key = abs)\n",
    "super_impt_cols = ['gene_weight', 'gene_product', 'COG', 'EC_number']\n",
    "df[impt_cols]"
   ]
  },
  {
   "cell_type": "code",
   "execution_count": 43,
   "metadata": {
    "tags": []
   },
   "outputs": [
    {
     "data": {
      "image/png": "[encoded data removed]",
      "text/plain": [
       "<Figure size 640x480 with 1 Axes>"
      ]
     },
     "metadata": {},
     "output_type": "display_data"
    }
   ],
   "source": [
    "# create bar chart of predicted regulators\n",
    "df = ica_data.view_imodulon(iM_ct)\n",
    "regulators = set()\n",
    "for regulator in df['FIMO_regulators']:\n",
    "    if str(regulator) == 'nan':\n",
    "        continue\n",
    "    vals = ast.literal_eval(regulator)\n",
    "    for val in vals:\n",
    "        regulators.add(val)\n",
    "regulators = list(regulators)\n",
    "regulators.sort()\n",
    "\n",
    "counts = []\n",
    "for regulator in regulators:\n",
    "    ct = 0\n",
    "    for index, row in df.iterrows():\n",
    "        if regulator in row['FIMO_regulators']:\n",
    "            ct += 1\n",
    "    counts.append(ct)\n",
    "\n",
    "# resort to print most overlap first\n",
    "paired = list(zip(counts, regulators))\n",
    "paired.sort(key=lambda x: x[0])  # Sort by the first element (integer)\n",
    "counts, regulators = zip(*paired)\n",
    "counts = list(counts)\n",
    "regulators = list(regulators)\n",
    "\n",
    "# plotting\n",
    "counts.append(len(df.index))\n",
    "regulators.append('total genes')\n",
    "plt.barh(y = regulators, width = counts)\n",
    "plt.savefig('../figures/predicted_regulators.pdf', transparent = True)\n",
    "plt.show()"
   ]
  },
  {
   "cell_type": "code",
   "execution_count": 44,
   "metadata": {
    "tags": []
   },
   "outputs": [
    {
     "name": "stderr",
     "output_type": "stream",
     "text": [
      "/tmp/ipykernel_149/3982449428.py:286: MatplotlibDeprecationWarning: The get_cmap function was deprecated in Matplotlib 3.7 and will be removed in 3.11. Use ``matplotlib.colormaps[name]`` or ``matplotlib.colormaps.get_cmap()`` or ``pyplot.get_cmap()`` instead.\n",
      "  cm = plt.cm.get_cmap('tab20')\n"
     ]
    },
    {
     "name": "stdout",
     "output_type": "stream",
     "text": [
      "Number of cluster:  4\n"
     ]
    },
    {
     "data": {
      "image/png": "[encoded data removed]",
      "text/plain": [
       "<Figure size 900x900 with 5 Axes>"
      ]
     },
     "metadata": {},
     "output_type": "display_data"
    }
   ],
   "source": [
    "df = ica_data.X.loc[ica_data.view_imodulon(iM_ct).index]\n",
    "clusters = global_clustering(df.T, threshold = 0.7)"
   ]
  },
  {
   "cell_type": "code",
   "execution_count": 45,
   "metadata": {
    "tags": []
   },
   "outputs": [
    {
     "data": {
      "text/html": [
       "<div>\n",
       "<style scoped>\n",
       "    .dataframe tbody tr th:only-of-type {\n",
       "        vertical-align: middle;\n",
       "    }\n",
       "\n",
       "    .dataframe tbody tr th {\n",
       "        vertical-align: top;\n",
       "    }\n",
       "\n",
       "    .dataframe thead th {\n",
       "        text-align: right;\n",
       "    }\n",
       "</style>\n",
       "<table border=\"1\" class=\"dataframe\">\n",
       "  <thead>\n",
       "    <tr style=\"text-align: right;\">\n",
       "      <th></th>\n",
       "      <th>gene_weight</th>\n",
       "      <th>gene_name</th>\n",
       "      <th>accession</th>\n",
       "      <th>start</th>\n",
       "      <th>end</th>\n",
       "      <th>strand</th>\n",
       "      <th>gene_product</th>\n",
       "      <th>COG</th>\n",
       "      <th>regulator</th>\n",
       "      <th>uniprot</th>\n",
       "      <th>kegg_maps</th>\n",
       "      <th>EC_number</th>\n",
       "      <th>aerobic_essential</th>\n",
       "      <th>anaerobic_essential</th>\n",
       "      <th>interpro_annotation</th>\n",
       "      <th>anaero_xylose_model_flux</th>\n",
       "      <th>anaero_glucose_model_flux</th>\n",
       "      <th>aero_xylose_model_flux</th>\n",
       "      <th>aero_glucose_model_flux</th>\n",
       "      <th>anaero_xylose_model_growth_perc_change</th>\n",
       "      <th>anaero_glucose_model_growth_perc_change</th>\n",
       "      <th>aero_xylose_model_growth_perc_change</th>\n",
       "      <th>aero_glucose_model_growth_perc_change</th>\n",
       "      <th>FIMO_regulators</th>\n",
       "      <th>LDI_early_glucose_fold_change</th>\n",
       "      <th>LDI_late_glucose_fold_change</th>\n",
       "      <th>LDI_early_xylose_fold_change</th>\n",
       "      <th>LDI_late_xylose_fold_change</th>\n",
       "      <th>no_LDI_early_glucose_fold_change</th>\n",
       "      <th>no_LDI_late_glucose_fold_change</th>\n",
       "      <th>no_LDI_early_xylose_fold_change</th>\n",
       "      <th>no_LDI_late_xylose_fold_change</th>\n",
       "      <th>iMs</th>\n",
       "    </tr>\n",
       "  </thead>\n",
       "  <tbody>\n",
       "    <tr>\n",
       "      <th>ZMO1_ZMO2062</th>\n",
       "      <td>0.501520</td>\n",
       "      <td>ZMO1_ZMO2062</td>\n",
       "      <td>CP023715.1</td>\n",
       "      <td>1233613.0</td>\n",
       "      <td>1233939.0</td>\n",
       "      <td>-</td>\n",
       "      <td>hypothetical protein</td>\n",
       "      <td>No COG annotation</td>\n",
       "      <td>ZMO0373,ZMO1787</td>\n",
       "      <td>NaN</td>\n",
       "      <td>NaN</td>\n",
       "      <td>NaN</td>\n",
       "      <td>0.0</td>\n",
       "      <td>0.0</td>\n",
       "      <td>SignalP-TM;SignalP-noTM</td>\n",
       "      <td>NaN</td>\n",
       "      <td>NaN</td>\n",
       "      <td>NaN</td>\n",
       "      <td>NaN</td>\n",
       "      <td>NaN</td>\n",
       "      <td>NaN</td>\n",
       "      <td>NaN</td>\n",
       "      <td>NaN</td>\n",
       "      <td>[]</td>\n",
       "      <td>NaN</td>\n",
       "      <td>NaN</td>\n",
       "      <td>NaN</td>\n",
       "      <td>NaN</td>\n",
       "      <td>NaN</td>\n",
       "      <td>NaN</td>\n",
       "      <td>NaN</td>\n",
       "      <td>NaN</td>\n",
       "      <td>['unknown_3']</td>\n",
       "    </tr>\n",
       "    <tr>\n",
       "      <th>ZMO1_ZMO2053</th>\n",
       "      <td>0.133815</td>\n",
       "      <td>ZMO1_ZMO2053</td>\n",
       "      <td>CP023715.1</td>\n",
       "      <td>727374.0</td>\n",
       "      <td>727751.0</td>\n",
       "      <td>-</td>\n",
       "      <td>uncharacterized protein</td>\n",
       "      <td>No COG annotation</td>\n",
       "      <td>ZMO1787,ZMO1857</td>\n",
       "      <td>NaN</td>\n",
       "      <td>NaN</td>\n",
       "      <td>NaN</td>\n",
       "      <td>0.0</td>\n",
       "      <td>0.0</td>\n",
       "      <td>C-terminal region of a signal peptide.;Hydroph...</td>\n",
       "      <td>NaN</td>\n",
       "      <td>NaN</td>\n",
       "      <td>NaN</td>\n",
       "      <td>NaN</td>\n",
       "      <td>NaN</td>\n",
       "      <td>NaN</td>\n",
       "      <td>NaN</td>\n",
       "      <td>NaN</td>\n",
       "      <td>[]</td>\n",
       "      <td>NaN</td>\n",
       "      <td>NaN</td>\n",
       "      <td>NaN</td>\n",
       "      <td>NaN</td>\n",
       "      <td>NaN</td>\n",
       "      <td>NaN</td>\n",
       "      <td>NaN</td>\n",
       "      <td>NaN</td>\n",
       "      <td>['plasmid_unknown_1', 'unknown_3']</td>\n",
       "    </tr>\n",
       "  </tbody>\n",
       "</table>\n",
       "</div>"
      ],
      "text/plain": [
       "              gene_weight     gene_name   accession      start        end  \\\n",
       "ZMO1_ZMO2062     0.501520  ZMO1_ZMO2062  CP023715.1  1233613.0  1233939.0   \n",
       "ZMO1_ZMO2053     0.133815  ZMO1_ZMO2053  CP023715.1   727374.0   727751.0   \n",
       "\n",
       "             strand             gene_product                COG  \\\n",
       "ZMO1_ZMO2062      -     hypothetical protein  No COG annotation   \n",
       "ZMO1_ZMO2053      -  uncharacterized protein  No COG annotation   \n",
       "\n",
       "                    regulator uniprot kegg_maps EC_number  aerobic_essential  \\\n",
       "ZMO1_ZMO2062  ZMO0373,ZMO1787     NaN       NaN       NaN                0.0   \n",
       "ZMO1_ZMO2053  ZMO1787,ZMO1857     NaN       NaN       NaN                0.0   \n",
       "\n",
       "              anaerobic_essential  \\\n",
       "ZMO1_ZMO2062                  0.0   \n",
       "ZMO1_ZMO2053                  0.0   \n",
       "\n",
       "                                            interpro_annotation  \\\n",
       "ZMO1_ZMO2062                            SignalP-TM;SignalP-noTM   \n",
       "ZMO1_ZMO2053  C-terminal region of a signal peptide.;Hydroph...   \n",
       "\n",
       "              anaero_xylose_model_flux  anaero_glucose_model_flux  \\\n",
       "ZMO1_ZMO2062                       NaN                        NaN   \n",
       "ZMO1_ZMO2053                       NaN                        NaN   \n",
       "\n",
       "              aero_xylose_model_flux  aero_glucose_model_flux  \\\n",
       "ZMO1_ZMO2062                     NaN                      NaN   \n",
       "ZMO1_ZMO2053                     NaN                      NaN   \n",
       "\n",
       "              anaero_xylose_model_growth_perc_change  \\\n",
       "ZMO1_ZMO2062                                     NaN   \n",
       "ZMO1_ZMO2053                                     NaN   \n",
       "\n",
       "              anaero_glucose_model_growth_perc_change  \\\n",
       "ZMO1_ZMO2062                                      NaN   \n",
       "ZMO1_ZMO2053                                      NaN   \n",
       "\n",
       "              aero_xylose_model_growth_perc_change  \\\n",
       "ZMO1_ZMO2062                                   NaN   \n",
       "ZMO1_ZMO2053                                   NaN   \n",
       "\n",
       "              aero_glucose_model_growth_perc_change FIMO_regulators  \\\n",
       "ZMO1_ZMO2062                                    NaN              []   \n",
       "ZMO1_ZMO2053                                    NaN              []   \n",
       "\n",
       "              LDI_early_glucose_fold_change  LDI_late_glucose_fold_change  \\\n",
       "ZMO1_ZMO2062                            NaN                           NaN   \n",
       "ZMO1_ZMO2053                            NaN                           NaN   \n",
       "\n",
       "              LDI_early_xylose_fold_change  LDI_late_xylose_fold_change  \\\n",
       "ZMO1_ZMO2062                           NaN                          NaN   \n",
       "ZMO1_ZMO2053                           NaN                          NaN   \n",
       "\n",
       "              no_LDI_early_glucose_fold_change  \\\n",
       "ZMO1_ZMO2062                               NaN   \n",
       "ZMO1_ZMO2053                               NaN   \n",
       "\n",
       "              no_LDI_late_glucose_fold_change  \\\n",
       "ZMO1_ZMO2062                              NaN   \n",
       "ZMO1_ZMO2053                              NaN   \n",
       "\n",
       "              no_LDI_early_xylose_fold_change  no_LDI_late_xylose_fold_change  \\\n",
       "ZMO1_ZMO2062                              NaN                             NaN   \n",
       "ZMO1_ZMO2053                              NaN                             NaN   \n",
       "\n",
       "                                             iMs  \n",
       "ZMO1_ZMO2062                       ['unknown_3']  \n",
       "ZMO1_ZMO2053  ['plasmid_unknown_1', 'unknown_3']  "
      ]
     },
     "execution_count": 45,
     "metadata": {},
     "output_type": "execute_result"
    }
   ],
   "source": [
    "ica_data.view_imodulon(iM_ct).loc[clusters[clusters == 1].index].sort_values(by = 'gene_weight', ascending = False)"
   ]
  },
  {
   "cell_type": "code",
   "execution_count": 46,
   "metadata": {
    "tags": []
   },
   "outputs": [
    {
     "data": {
      "image/png": "[encoded data removed]",
      "text/plain": [
       "<Figure size 640x480 with 1 Axes>"
      ]
     },
     "metadata": {},
     "output_type": "display_data"
    }
   ],
   "source": [
    "custom_plot_gene_weights(ica_data, iM_ct)\n",
    "plt.show()"
   ]
  },
  {
   "cell_type": "code",
   "execution_count": 47,
   "metadata": {
    "tags": []
   },
   "outputs": [
    {
     "data": {
      "image/png": "[encoded data removed]",
      "text/plain": [
       "<Figure size 2090x200 with 1 Axes>"
      ]
     },
     "metadata": {},
     "output_type": "display_data"
    }
   ],
   "source": [
    "plot_activities(ica_data, iM_ct, highlight=['furfural_and_KO'])#'low_pH_evo'])\n",
    "plt.show()"
   ]
  },
  {
   "cell_type": "code",
   "execution_count": 161,
   "metadata": {
    "tags": []
   },
   "outputs": [
    {
     "data": {
      "text/html": [
       "<div>\n",
       "<style scoped>\n",
       "    .dataframe tbody tr th:only-of-type {\n",
       "        vertical-align: middle;\n",
       "    }\n",
       "\n",
       "    .dataframe tbody tr th {\n",
       "        vertical-align: top;\n",
       "    }\n",
       "\n",
       "    .dataframe thead th {\n",
       "        text-align: right;\n",
       "    }\n",
       "</style>\n",
       "<table border=\"1\" class=\"dataframe\">\n",
       "  <thead>\n",
       "    <tr style=\"text-align: right;\">\n",
       "      <th></th>\n",
       "      <th>p_value</th>\n",
       "      <th>q_value</th>\n",
       "      <th>most_enriched</th>\n",
       "      <th>precision</th>\n",
       "      <th>recall</th>\n",
       "    </tr>\n",
       "    <tr>\n",
       "      <th>Category</th>\n",
       "      <th></th>\n",
       "      <th></th>\n",
       "      <th></th>\n",
       "      <th></th>\n",
       "      <th></th>\n",
       "    </tr>\n",
       "  </thead>\n",
       "  <tbody>\n",
       "    <tr>\n",
       "      <th>project</th>\n",
       "      <td>8.385094e-10</td>\n",
       "      <td>1.090062e-08</td>\n",
       "      <td>ethanologens_ferment</td>\n",
       "      <td>0.360000</td>\n",
       "      <td>0.409091</td>\n",
       "    </tr>\n",
       "    <tr>\n",
       "      <th>Carbon Source (g/L)</th>\n",
       "      <td>1.420827e-07</td>\n",
       "      <td>9.235376e-07</td>\n",
       "      <td>xylose</td>\n",
       "      <td>0.303030</td>\n",
       "      <td>0.454545</td>\n",
       "    </tr>\n",
       "    <tr>\n",
       "      <th>Temperature (C)</th>\n",
       "      <td>3.019966e-07</td>\n",
       "      <td>1.308652e-06</td>\n",
       "      <td>45.0</td>\n",
       "      <td>1.000000</td>\n",
       "      <td>0.136364</td>\n",
       "    </tr>\n",
       "    <tr>\n",
       "      <th>lab</th>\n",
       "      <td>2.000329e-05</td>\n",
       "      <td>6.501070e-05</td>\n",
       "      <td>DOE JGI</td>\n",
       "      <td>0.360000</td>\n",
       "      <td>0.409091</td>\n",
       "    </tr>\n",
       "    <tr>\n",
       "      <th>Strain Description</th>\n",
       "      <td>2.707344e-04</td>\n",
       "      <td>7.039096e-04</td>\n",
       "      <td>Zymomonas mobilis</td>\n",
       "      <td>0.169811</td>\n",
       "      <td>0.818182</td>\n",
       "    </tr>\n",
       "    <tr>\n",
       "      <th>Supplement</th>\n",
       "      <td>1.878333e-03</td>\n",
       "      <td>4.069721e-03</td>\n",
       "      <td>ACSH</td>\n",
       "      <td>0.421053</td>\n",
       "      <td>0.363636</td>\n",
       "    </tr>\n",
       "    <tr>\n",
       "      <th>Isolate Type</th>\n",
       "      <td>3.424806e-02</td>\n",
       "      <td>6.360353e-02</td>\n",
       "      <td>other</td>\n",
       "      <td>0.142857</td>\n",
       "      <td>0.409091</td>\n",
       "    </tr>\n",
       "  </tbody>\n",
       "</table>\n",
       "</div>"
      ],
      "text/plain": [
       "                          p_value       q_value         most_enriched  \\\n",
       "Category                                                                \n",
       "project              8.385094e-10  1.090062e-08  ethanologens_ferment   \n",
       "Carbon Source (g/L)  1.420827e-07  9.235376e-07                xylose   \n",
       "Temperature (C)      3.019966e-07  1.308652e-06                  45.0   \n",
       "lab                  2.000329e-05  6.501070e-05               DOE JGI   \n",
       "Strain Description   2.707344e-04  7.039096e-04     Zymomonas mobilis   \n",
       "Supplement           1.878333e-03  4.069721e-03                  ACSH   \n",
       "Isolate Type         3.424806e-02  6.360353e-02                 other   \n",
       "\n",
       "                     precision    recall  \n",
       "Category                                  \n",
       "project               0.360000  0.409091  \n",
       "Carbon Source (g/L)   0.303030  0.454545  \n",
       "Temperature (C)       1.000000  0.136364  \n",
       "lab                   0.360000  0.409091  \n",
       "Strain Description    0.169811  0.818182  \n",
       "Supplement            0.421053  0.363636  \n",
       "Isolate Type          0.142857  0.409091  "
      ]
     },
     "execution_count": 161,
     "metadata": {},
     "output_type": "execute_result"
    }
   ],
   "source": [
    "out = metadata_enrichment(ica_data, iM_ct)\n",
    "out[out['q_value'] < 0.10]"
   ]
  },
  {
   "cell_type": "code",
   "execution_count": 162,
   "metadata": {
    "tags": []
   },
   "outputs": [
    {
     "data": {
      "text/html": [
       "<div>\n",
       "<style scoped>\n",
       "    .dataframe tbody tr th:only-of-type {\n",
       "        vertical-align: middle;\n",
       "    }\n",
       "\n",
       "    .dataframe tbody tr th {\n",
       "        vertical-align: top;\n",
       "    }\n",
       "\n",
       "    .dataframe thead th {\n",
       "        text-align: right;\n",
       "    }\n",
       "</style>\n",
       "<table border=\"1\" class=\"dataframe\">\n",
       "  <thead>\n",
       "    <tr style=\"text-align: right;\">\n",
       "      <th></th>\n",
       "      <th>p_value</th>\n",
       "      <th>q_value</th>\n",
       "      <th>most_enriched</th>\n",
       "      <th>precision</th>\n",
       "      <th>recall</th>\n",
       "    </tr>\n",
       "    <tr>\n",
       "      <th>Category</th>\n",
       "      <th></th>\n",
       "      <th></th>\n",
       "      <th></th>\n",
       "      <th></th>\n",
       "      <th></th>\n",
       "    </tr>\n",
       "  </thead>\n",
       "  <tbody>\n",
       "  </tbody>\n",
       "</table>\n",
       "</div>"
      ],
      "text/plain": [
       "Empty DataFrame\n",
       "Columns: [p_value, q_value, most_enriched, precision, recall]\n",
       "Index: []"
      ]
     },
     "execution_count": 162,
     "metadata": {},
     "output_type": "execute_result"
    }
   ],
   "source": [
    "out = genes_enrichment(ica_data, iM_ct)\n",
    "out[out['q_value'] < 0.10]"
   ]
  },
  {
   "cell_type": "markdown",
   "metadata": {
    "jp-MarkdownHeadingCollapsed": true,
    "tags": []
   },
   "source": [
    "# below is as forked from SBRG/iModulonMiner, ignoring it for now"
   ]
  },
  {
   "cell_type": "markdown",
   "metadata": {
    "jp-MarkdownHeadingCollapsed": true,
    "tags": []
   },
   "source": [
    "## Add iModulon category"
   ]
  },
  {
   "cell_type": "code",
   "execution_count": null,
   "metadata": {
    "tags": []
   },
   "outputs": [],
   "source": [
    "for i,row in ica_data.imodulon_table.iterrows():\n",
    "    if pd.notnull(row.regulator):\n",
    "        ica_data.imodulon_table.loc[i, 'category'] = 'regulatory'\n",
    "    elif pd.notnull(row.single_gene):\n",
    "        ica_data.imodulon_table.loc[i, 'category'] = 'single_gene'\n",
    "    else:\n",
    "        ica_data.imodulon_table.loc[i, 'category'] = 'uncharacterized'"
   ]
  },
  {
   "cell_type": "code",
   "execution_count": null,
   "metadata": {},
   "outputs": [],
   "source": [
    "ica_data.imodulon_table.head()"
   ]
  },
  {
   "cell_type": "markdown",
   "metadata": {
    "tags": []
   },
   "source": [
    "## Inspect all iModulons without an automated annotation"
   ]
  },
  {
   "cell_type": "code",
   "execution_count": null,
   "metadata": {
    "tags": []
   },
   "outputs": [],
   "source": [
    "unchar_imods = ica_data.imodulon_table[ica_data.imodulon_table.category == 'uncharacterized']"
   ]
  },
  {
   "cell_type": "code",
   "execution_count": null,
   "metadata": {
    "tags": []
   },
   "outputs": [],
   "source": [
    "unchar_imods"
   ]
  },
  {
   "cell_type": "markdown",
   "metadata": {},
   "source": [
    "### iModulon 1: Unknown"
   ]
  },
  {
   "cell_type": "code",
   "execution_count": null,
   "metadata": {
    "tags": []
   },
   "outputs": [],
   "source": [
    "ica_data.view_imodulon(1)"
   ]
  },
  {
   "cell_type": "code",
   "execution_count": null,
   "metadata": {},
   "outputs": [],
   "source": [
    "plot_activities(ica_data,1,highlight=['heatshock','spore_genes'])"
   ]
  },
  {
   "cell_type": "code",
   "execution_count": null,
   "metadata": {},
   "outputs": [],
   "source": [
    "DF_enrichments[DF_enrichments.imodulon=='1'].sort_values('f1score',ascending=False)"
   ]
  },
  {
   "cell_type": "code",
   "execution_count": null,
   "metadata": {},
   "outputs": [],
   "source": [
    "# Update the ICA data object\n",
    "\n",
    "ica_data.rename_imodulons({1:'uncharacterized-1'})"
   ]
  },
  {
   "cell_type": "markdown",
   "metadata": {},
   "source": [
    "### iModulon 3: Unknown\n",
    "This iModulon is likely some technical artifact from the MK7 project."
   ]
  },
  {
   "cell_type": "code",
   "execution_count": null,
   "metadata": {},
   "outputs": [],
   "source": [
    "ica_data.view_imodulon(3)"
   ]
  },
  {
   "cell_type": "code",
   "execution_count": null,
   "metadata": {},
   "outputs": [],
   "source": [
    "plot_activities(ica_data,3,highlight=['heatshock','spore_genes'])"
   ]
  },
  {
   "cell_type": "code",
   "execution_count": null,
   "metadata": {},
   "outputs": [],
   "source": [
    "DF_enrichments[DF_enrichments.imodulon=='3'].sort_values('f1score',ascending=False)"
   ]
  },
  {
   "cell_type": "code",
   "execution_count": null,
   "metadata": {},
   "outputs": [],
   "source": [
    "# Update the ica_data object\n",
    "ica_data.rename_imodulons({3:'uncharacterized-2'})"
   ]
  },
  {
   "cell_type": "markdown",
   "metadata": {},
   "source": [
    "### iModulon 6: ybc Operon\n",
    "This iModulon contains four genes starting with ybc, and ndhF, which are all likely in the same operon. Little is known about the genes except that they are part of prophage 1."
   ]
  },
  {
   "cell_type": "code",
   "execution_count": null,
   "metadata": {},
   "outputs": [],
   "source": [
    "ica_data.view_imodulon(6)"
   ]
  },
  {
   "cell_type": "code",
   "execution_count": null,
   "metadata": {},
   "outputs": [],
   "source": [
    "plot_activities(ica_data,6,highlight=['heatshock','sigI'])"
   ]
  },
  {
   "cell_type": "code",
   "execution_count": null,
   "metadata": {},
   "outputs": [],
   "source": [
    "DF_enrichments[DF_enrichments.imodulon=='6'].sort_values('f1score',ascending=False)"
   ]
  },
  {
   "cell_type": "code",
   "execution_count": null,
   "metadata": {},
   "outputs": [],
   "source": [
    "# Update the ICA data object\n",
    "\n",
    "ica_data.rename_imodulons({6:'ybc-operon'})\n",
    "ica_data.imodulon_table.loc['ybc-operon','category'] = 'functional'"
   ]
  },
  {
   "cell_type": "markdown",
   "metadata": {},
   "source": [
    "### iModulon 7: Putative yvaF\n",
    "We predict that this iModulon is regulated by yvaF, a putative transcriptional regulator that is in the iModulon."
   ]
  },
  {
   "cell_type": "code",
   "execution_count": null,
   "metadata": {},
   "outputs": [],
   "source": [
    "ica_data.view_imodulon(7)"
   ]
  },
  {
   "cell_type": "code",
   "execution_count": null,
   "metadata": {},
   "outputs": [],
   "source": [
    "plot_activities(ica_data,7,highlight=['heatshock'])"
   ]
  },
  {
   "cell_type": "code",
   "execution_count": null,
   "metadata": {},
   "outputs": [],
   "source": [
    "DF_enrichments[DF_enrichments.imodulon=='7'].sort_values('f1score',ascending=False)"
   ]
  },
  {
   "cell_type": "code",
   "execution_count": null,
   "metadata": {},
   "outputs": [],
   "source": [
    "# Update the ica_data object\n",
    "ica_data.rename_imodulons({7:'YvaF'})\n",
    "ica_data.imodulon_table.loc['YvaF','category'] = 'functional'"
   ]
  },
  {
   "cell_type": "markdown",
   "metadata": {},
   "source": [
    "### iModulon 9: Unknown\n",
    "Another technical artifact from the MK7 project"
   ]
  },
  {
   "cell_type": "code",
   "execution_count": null,
   "metadata": {},
   "outputs": [],
   "source": [
    "ica_data.view_imodulon(9)"
   ]
  },
  {
   "cell_type": "code",
   "execution_count": null,
   "metadata": {},
   "outputs": [],
   "source": [
    "plot_activities(ica_data,9,highlight=['ldar'])"
   ]
  },
  {
   "cell_type": "code",
   "execution_count": null,
   "metadata": {},
   "outputs": [],
   "source": [
    "DF_enrichments[DF_enrichments.imodulon=='9'].sort_values('f1score',ascending=False)"
   ]
  },
  {
   "cell_type": "code",
   "execution_count": null,
   "metadata": {},
   "outputs": [],
   "source": [
    "# Update the ica_data object\n",
    "ica_data.rename_imodulons({9:'uncharacterized-3'})"
   ]
  },
  {
   "cell_type": "markdown",
   "metadata": {},
   "source": [
    "### iModulon 51: Unknown"
   ]
  },
  {
   "cell_type": "code",
   "execution_count": null,
   "metadata": {},
   "outputs": [],
   "source": [
    "ica_data.view_imodulon(51)"
   ]
  },
  {
   "cell_type": "code",
   "execution_count": null,
   "metadata": {},
   "outputs": [],
   "source": [
    "plot_activities(ica_data,51,highlight=['heatshock','ldar'])"
   ]
  },
  {
   "cell_type": "code",
   "execution_count": null,
   "metadata": {},
   "outputs": [],
   "source": [
    "DF_enrichments[DF_enrichments.imodulon=='51'].sort_values('f1score',ascending=False)"
   ]
  },
  {
   "cell_type": "code",
   "execution_count": null,
   "metadata": {},
   "outputs": [],
   "source": [
    "# Update the ica_data object\n",
    "ica_data.rename_imodulons({51:'uncharacterized-4'})"
   ]
  },
  {
   "cell_type": "markdown",
   "metadata": {},
   "source": [
    "### iModulon 52: ykzB-related\n",
    "This iModulon is only down-regulated during sporulation when ykzB is deleted."
   ]
  },
  {
   "cell_type": "code",
   "execution_count": null,
   "metadata": {},
   "outputs": [],
   "source": [
    "ica_data.view_imodulon(52)"
   ]
  },
  {
   "cell_type": "code",
   "execution_count": null,
   "metadata": {},
   "outputs": [],
   "source": [
    "plot_activities(ica_data,52,highlight=['biofilm_time','spore_genes'])"
   ]
  },
  {
   "cell_type": "code",
   "execution_count": null,
   "metadata": {},
   "outputs": [],
   "source": [
    "DF_enrichments[DF_enrichments.imodulon=='52'].sort_values('f1score',ascending=False)"
   ]
  },
  {
   "cell_type": "code",
   "execution_count": null,
   "metadata": {},
   "outputs": [],
   "source": [
    "# Update the ica_data object\n",
    "ica_data.rename_imodulons({52:'ykzB-related'})\n",
    "ica_data.imodulon_table.loc['ykzB-related','category'] = 'functional'"
   ]
  },
  {
   "cell_type": "markdown",
   "metadata": {},
   "source": [
    "### iModulon 61: early biofilm"
   ]
  },
  {
   "cell_type": "code",
   "execution_count": null,
   "metadata": {},
   "outputs": [],
   "source": [
    "ica_data.view_imodulon(61)"
   ]
  },
  {
   "cell_type": "code",
   "execution_count": null,
   "metadata": {},
   "outputs": [],
   "source": [
    "plot_activities(ica_data,61,highlight=['biofilm_time','ldar','pamR'])"
   ]
  },
  {
   "cell_type": "code",
   "execution_count": null,
   "metadata": {},
   "outputs": [],
   "source": [
    "DF_enrichments[DF_enrichments.imodulon=='61'].sort_values('f1score',ascending=False)"
   ]
  },
  {
   "cell_type": "code",
   "execution_count": null,
   "metadata": {},
   "outputs": [],
   "source": [
    "# Update ICA data object\n",
    "ica_data.rename_imodulons({61:'early-biofilm'})\n",
    "ica_data.imodulon_table.loc['early-biofilm','category'] = 'functional'"
   ]
  },
  {
   "cell_type": "markdown",
   "metadata": {},
   "source": [
    "### iModulon 68: Unknown"
   ]
  },
  {
   "cell_type": "code",
   "execution_count": null,
   "metadata": {},
   "outputs": [],
   "source": [
    "ica_data.view_imodulon(68)"
   ]
  },
  {
   "cell_type": "code",
   "execution_count": null,
   "metadata": {},
   "outputs": [],
   "source": [
    "plot_activities(ica_data,68,highlight=['ldar','tasA'])"
   ]
  },
  {
   "cell_type": "code",
   "execution_count": null,
   "metadata": {
    "scrolled": true
   },
   "outputs": [],
   "source": [
    "DF_enrichments[DF_enrichments.imodulon=='68'].sort_values('f1score',ascending=False)"
   ]
  },
  {
   "cell_type": "code",
   "execution_count": null,
   "metadata": {},
   "outputs": [],
   "source": [
    "# Update the ica_data object\n",
    "ica_data.rename_imodulons({68:'uncharacterized-5'})"
   ]
  },
  {
   "cell_type": "markdown",
   "metadata": {
    "tags": []
   },
   "source": [
    "### iModulon 69: cssRS"
   ]
  },
  {
   "cell_type": "code",
   "execution_count": null,
   "metadata": {},
   "outputs": [],
   "source": [
    "ica_data.view_imodulon(69)"
   ]
  },
  {
   "cell_type": "code",
   "execution_count": null,
   "metadata": {},
   "outputs": [],
   "source": [
    "plot_activities(ica_data,69,highlight=['ecm_tasA','ldar'])"
   ]
  },
  {
   "cell_type": "code",
   "execution_count": null,
   "metadata": {
    "scrolled": true
   },
   "outputs": [],
   "source": [
    "DF_enrichments[DF_enrichments.imodulon=='69'].sort_values('f1score',ascending=False)"
   ]
  },
  {
   "cell_type": "code",
   "execution_count": null,
   "metadata": {},
   "outputs": [],
   "source": [
    "# Update the ICA data object\n",
    "\n",
    "ica_data.rename_imodulons({69:'putative-cssRS'})\n",
    "ica_data.imodulon_table.loc['putative-cssRS','category'] = 'functional'"
   ]
  },
  {
   "cell_type": "markdown",
   "metadata": {},
   "source": [
    "### iModulon 70: Unknown"
   ]
  },
  {
   "cell_type": "code",
   "execution_count": null,
   "metadata": {},
   "outputs": [],
   "source": [
    "ica_data.view_imodulon(70)"
   ]
  },
  {
   "cell_type": "code",
   "execution_count": null,
   "metadata": {},
   "outputs": [],
   "source": [
    "plot_activities(ica_data,70,highlight=['ldar'])"
   ]
  },
  {
   "cell_type": "code",
   "execution_count": null,
   "metadata": {},
   "outputs": [],
   "source": [
    "# Update the ica_data object\n",
    "ica_data.rename_imodulons({70:'uncharacterized-6'})"
   ]
  },
  {
   "cell_type": "markdown",
   "metadata": {},
   "source": [
    "### iModulon 71: Putative yxi-operon"
   ]
  },
  {
   "cell_type": "code",
   "execution_count": null,
   "metadata": {},
   "outputs": [],
   "source": [
    "ica_data.view_imodulon(71)"
   ]
  },
  {
   "cell_type": "code",
   "execution_count": null,
   "metadata": {},
   "outputs": [],
   "source": [
    "plot_activities(ica_data,71,highlight=['ldar','heatshock'])"
   ]
  },
  {
   "cell_type": "code",
   "execution_count": null,
   "metadata": {},
   "outputs": [],
   "source": [
    "# Update ICA data object\n",
    "ica_data.rename_imodulons({71:'yxi-operon'})\n",
    "ica_data.imodulon_table.loc['yxi-operon','category'] = 'functional'"
   ]
  },
  {
   "cell_type": "markdown",
   "metadata": {
    "jp-MarkdownHeadingCollapsed": true,
    "tags": []
   },
   "source": [
    "## Double-check low-scoring iModulons"
   ]
  },
  {
   "cell_type": "code",
   "execution_count": null,
   "metadata": {},
   "outputs": [],
   "source": [
    "ica_data.imodulon_table[ica_data.imodulon_table['f1score']  < 0.25]"
   ]
  },
  {
   "cell_type": "code",
   "execution_count": null,
   "metadata": {},
   "outputs": [],
   "source": [
    "def clear_row(imodulon):\n",
    "    clear_columns = ['regulator','pvalue','qvalue','precision','recall','f1score','TP','regulon_size','n_regs']\n",
    "    \n",
    "    for col in clear_columns:\n",
    "        ica_data.imodulon_table.loc[imodulon,col] = None"
   ]
  },
  {
   "cell_type": "markdown",
   "metadata": {},
   "source": [
    "### CsoR/Fnr -> SPbeta-1"
   ]
  },
  {
   "cell_type": "code",
   "execution_count": null,
   "metadata": {},
   "outputs": [],
   "source": [
    "ica_data.imodulon_table.loc['CsoR/Fnr']"
   ]
  },
  {
   "cell_type": "code",
   "execution_count": null,
   "metadata": {},
   "outputs": [],
   "source": [
    "DF_enrichments[DF_enrichments.imodulon=='CsoR/Fnr'].sort_values('f1score',ascending=False)"
   ]
  },
  {
   "cell_type": "code",
   "execution_count": null,
   "metadata": {},
   "outputs": [],
   "source": [
    "# Update the ICA data object\n",
    "\n",
    "ica_data.rename_imodulons({'CsoR/Fnr':'SPbeta-1'})\n",
    "ica_data.imodulon_table.loc['SPbeta-1','category'] = 'functional'\n",
    "clear_row('SPbeta-1')"
   ]
  },
  {
   "cell_type": "markdown",
   "metadata": {},
   "source": [
    "### RhgR -> Carbon metabolism/skin element"
   ]
  },
  {
   "cell_type": "code",
   "execution_count": null,
   "metadata": {},
   "outputs": [],
   "source": [
    "ica_data.imodulon_table.loc['RhgR']"
   ]
  },
  {
   "cell_type": "code",
   "execution_count": null,
   "metadata": {},
   "outputs": [],
   "source": [
    "DF_enrichments[DF_enrichments.imodulon=='RhgR'].sort_values('f1score',ascending=False)"
   ]
  },
  {
   "cell_type": "code",
   "execution_count": null,
   "metadata": {},
   "outputs": [],
   "source": [
    "# Update the ICA data object\n",
    "\n",
    "ica_data.rename_imodulons({'RhgR':'carbon metabolism/skin element'})\n",
    "ica_data.imodulon_table.loc['carbon metabolism/skin element','category'] = 'functional'\n",
    "clear_row('carbon metabolism/skin element')"
   ]
  },
  {
   "cell_type": "markdown",
   "metadata": {},
   "source": [
    "## NusA -> ComK/LevR/NusA"
   ]
  },
  {
   "cell_type": "code",
   "execution_count": null,
   "metadata": {},
   "outputs": [],
   "source": [
    "ica_data.imodulon_table.loc['NusA']"
   ]
  },
  {
   "cell_type": "code",
   "execution_count": null,
   "metadata": {},
   "outputs": [],
   "source": [
    "DF_enrichments[DF_enrichments.imodulon=='NusA'].sort_values('f1score',ascending=False)"
   ]
  },
  {
   "cell_type": "code",
   "execution_count": null,
   "metadata": {},
   "outputs": [],
   "source": [
    "ica_data.compute_trn_enrichment('NusA', max_regs=3,force=True,save=True)"
   ]
  },
  {
   "cell_type": "code",
   "execution_count": null,
   "metadata": {},
   "outputs": [],
   "source": [
    "# Update the ICA data object\n",
    "\n",
    "ica_data.rename_imodulons({'NusA':'ComK/LevR/NusA'})"
   ]
  },
  {
   "cell_type": "markdown",
   "metadata": {},
   "source": [
    "## CsoR -> SPbeta-2"
   ]
  },
  {
   "cell_type": "code",
   "execution_count": null,
   "metadata": {},
   "outputs": [],
   "source": [
    "ica_data.imodulon_table.loc['CsoR']"
   ]
  },
  {
   "cell_type": "code",
   "execution_count": null,
   "metadata": {},
   "outputs": [],
   "source": [
    "DF_enrichments[DF_enrichments.imodulon=='CsoR'].sort_values('f1score',ascending=False)"
   ]
  },
  {
   "cell_type": "code",
   "execution_count": null,
   "metadata": {},
   "outputs": [],
   "source": [
    "# Update the ICA data object\n",
    "\n",
    "ica_data.rename_imodulons({'CsoR':'SPbeta-2'})\n",
    "ica_data.imodulon_table.loc['SPbeta-2','category'] = 'functional'\n",
    "clear_row('SPbeta-2')"
   ]
  },
  {
   "cell_type": "markdown",
   "metadata": {},
   "source": [
    "## Xpf"
   ]
  },
  {
   "cell_type": "code",
   "execution_count": null,
   "metadata": {},
   "outputs": [],
   "source": [
    "ica_data.compute_trn_enrichment('Xpf',max_regs=2,save=True)"
   ]
  },
  {
   "cell_type": "code",
   "execution_count": null,
   "metadata": {},
   "outputs": [],
   "source": [
    "ica_data.rename_imodulons({'Xpf':'Xre/Xpf'})"
   ]
  },
  {
   "cell_type": "markdown",
   "metadata": {},
   "source": [
    "## Adjust some thresholds"
   ]
  },
  {
   "cell_type": "code",
   "execution_count": null,
   "metadata": {},
   "outputs": [],
   "source": [
    "ica_data.change_threshold('Thi-box',.1)\n",
    "ica_data.change_threshold('LnrK',.15)\n",
    "ica_data.change_threshold('KipR',0.12)\n",
    "\n",
    "# Recalculate enrichments\n",
    "ica_data.compute_trn_enrichment(['Thi-box','LnrK','KipR'], save=True)"
   ]
  },
  {
   "cell_type": "markdown",
   "metadata": {
    "jp-MarkdownHeadingCollapsed": true,
    "tags": []
   },
   "source": [
    "## Add biological functions\n",
    "This is only relevant for 'biological' and 'regulatory iModulons"
   ]
  },
  {
   "cell_type": "code",
   "execution_count": null,
   "metadata": {},
   "outputs": [],
   "source": [
    "subti_annot = pd.read_csv(path.join('..','data','external','subtiwiki_categories.csv'))\n",
    "subti_annot.rename({'BSU_number':'gene_id'},axis=1,inplace=True)\n",
    "subti_annot = subti_annot[subti_annot.gene_id.isin(ica_data.gene_names)]"
   ]
  },
  {
   "cell_type": "code",
   "execution_count": null,
   "metadata": {},
   "outputs": [],
   "source": [
    "subti_enrich = ica_data.compute_annotation_enrichment(subti_annot,'FuncName2')\n",
    "functions = subti_enrich.sort_values('qvalue').drop_duplicates('imodulon').set_index('imodulon')['FuncName2']\n",
    "functions = functions[ica_data.imodulon_table.category.isin(['regulatory','functional'])]\n",
    "functions.head()"
   ]
  },
  {
   "cell_type": "code",
   "execution_count": null,
   "metadata": {},
   "outputs": [],
   "source": [
    "ica_data.imodulon_table['function'] = functions"
   ]
  },
  {
   "cell_type": "markdown",
   "metadata": {},
   "source": [
    "### Manually curate functions"
   ]
  },
  {
   "cell_type": "code",
   "execution_count": null,
   "metadata": {},
   "outputs": [],
   "source": [
    "ica_data.imodulon_table.function.value_counts()"
   ]
  },
  {
   "cell_type": "code",
   "execution_count": null,
   "metadata": {},
   "outputs": [],
   "source": [
    "rename = {'carbon metabolism':'Carbon Metabolism',\n",
    "          'coping with stress':'Stress Response',\n",
    "          'amino acid/ nitrogen metabolism':'AA/Nucleotide Metabolism',\n",
    "          'prophages':'Prophages',\n",
    "          'sporulation':'Lifestyles',\n",
    "          'exponential and early post-exponential lifestyles':'Lifestyles',\n",
    "          'electron transport and ATP synthesis': 'Misc. Metabolism',\n",
    "          'homeostasis':'Homeostasis',\n",
    "          'nucleotide metabolism':'AA/Nucleotide Metabolism',\n",
    "          'proteins of unknown function':'Other',\n",
    "          'additional metabolic pathways':'Misc. Metabolism',\n",
    "          'short peptides':'Cellular Processes',\n",
    "          'essential genes':'Cellular Processes',\n",
    "          'transporters':'Misc. Metabolism',\n",
    "          'mobile genetic elements': 'Cellular Processes',\n",
    "          'ncRNA':'Cellular Processes',\n",
    "          'mobile genetic elements/ based on similarity':'Cellular Processes',\n",
    "          'lipid metabolism':'Misc. Metabolism',\n",
    "          'cell envelope and cell division': 'Cellular Processes',\n",
    "          'genetics':'Cellular Processes'}"
   ]
  },
  {
   "cell_type": "code",
   "execution_count": null,
   "metadata": {},
   "outputs": [],
   "source": [
    "ica_data.imodulon_table.function = ica_data.imodulon_table.function.replace(rename)"
   ]
  },
  {
   "cell_type": "code",
   "execution_count": null,
   "metadata": {},
   "outputs": [],
   "source": [
    "ica_data.imodulon_table.loc['ybc-operon','function'] = 'Prophages'\n",
    "ica_data.imodulon_table.loc['SigI','function'] = 'Stress Response'\n",
    "ica_data.imodulon_table.loc['LnrK','function'] = 'Cellular Processes'\n",
    "ica_data.imodulon_table.loc['early-biofilm','function'] = 'Lifestyles'\n",
    "ica_data.imodulon_table.loc['KipR','function'] = 'Misc. Metabolism'\n",
    "ica_data.imodulon_table.loc['AbrB','function'] = 'Lifestyles'\n",
    "ica_data.imodulon_table.loc['putative-cssRS','function'] = 'Lifestyles'\n",
    "ica_data.imodulon_table.loc['YvaF','function'] = 'Other'"
   ]
  },
  {
   "cell_type": "code",
   "execution_count": null,
   "metadata": {
    "scrolled": true
   },
   "outputs": [],
   "source": [
    "ica_data.imodulon_table.function.value_counts()"
   ]
  },
  {
   "cell_type": "markdown",
   "metadata": {},
   "source": [
    "### Fill in Uncharacterized and Single Gene iModulons"
   ]
  },
  {
   "cell_type": "code",
   "execution_count": null,
   "metadata": {},
   "outputs": [],
   "source": [
    "ica_data.imodulon_table.function = ['Uncharacterized' if row.category == 'uncharacterized' else\n",
    "                                    'Single Gene' if row.category == 'single_gene' else row.function\n",
    "                                    for i,row in ica_data.imodulon_table.iterrows()]\n"
   ]
  },
  {
   "cell_type": "markdown",
   "metadata": {
    "tags": []
   },
   "source": [
    "## Save final ICA data object"
   ]
  },
  {
   "cell_type": "code",
   "execution_count": null,
   "metadata": {},
   "outputs": [],
   "source": [
    "save_to_json(ica_data, path.join(data_dir, 'bsu.json.gz'))"
   ]
  },
  {
   "cell_type": "code",
   "execution_count": null,
   "metadata": {
    "tags": []
   },
   "outputs": [],
   "source": [
    "ica_data.imodulon_table.to_csv(path.join(data_dir, 'imodulon_table.csv'))"
   ]
  }
 ],
 "metadata": {
  "kernelspec": {
   "display_name": "Python 3 (ipykernel)",
   "language": "python",
   "name": "python3"
  },
  "language_info": {
   "codemirror_mode": {
    "name": "ipython",
    "version": 3
   },
   "file_extension": ".py",
   "mimetype": "text/x-python",
   "name": "python",
   "nbconvert_exporter": "python",
   "pygments_lexer": "ipython3",
   "version": "3.10.0"
  }
 },
 "nbformat": 4,
 "nbformat_minor": 4
}
